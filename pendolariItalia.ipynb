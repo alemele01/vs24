{
 "cells": [
  {
   "cell_type": "code",
   "execution_count": 60,
   "metadata": {},
   "outputs": [],
   "source": [
    "import pandas as pd\n",
    "import matplotlib.pyplot as plt\n",
    "import numpy as np\n",
    "import plotly.express as px"
   ]
  },
  {
   "cell_type": "markdown",
   "metadata": {},
   "source": [
    "# Alcuni dati su treni e pendolari in Lombardia\n",
    "Alcuni punti chiave da sviluppare sono:\n",
    "- **Numero di pendolari** e **direzione degli spostamenti** (immagino verso Milano);\n",
    "- **Puntualità** dei trasporti;\n",
    "- **Frequenza** delle corse;\n",
    "- **Costo medio** per biglietto e abbonamento;\n",
    "- **Soddisfazione** dei viaggiatori (se trovo il dato, ma non credo sia facile. Magari si trova qualche articolo o lamentela);\n",
    "- **Affidabilità** dei viaggi, ovvero numero di cancellazioni o ritardi superiori ai 15 minuti."
   ]
  },
  {
   "cell_type": "code",
   "execution_count": 61,
   "metadata": {},
   "outputs": [
    {
     "data": {
      "text/html": [
       "<div>\n",
       "<style scoped>\n",
       "    .dataframe tbody tr th:only-of-type {\n",
       "        vertical-align: middle;\n",
       "    }\n",
       "\n",
       "    .dataframe tbody tr th {\n",
       "        vertical-align: top;\n",
       "    }\n",
       "\n",
       "    .dataframe thead th {\n",
       "        text-align: right;\n",
       "    }\n",
       "</style>\n",
       "<table border=\"1\" class=\"dataframe\">\n",
       "  <thead>\n",
       "    <tr style=\"text-align: right;\">\n",
       "      <th></th>\n",
       "      <th>Campagna</th>\n",
       "      <th>Codice stazione</th>\n",
       "      <th>Codice aziendale</th>\n",
       "      <th>Reg</th>\n",
       "      <th>Prov</th>\n",
       "      <th>Stazione</th>\n",
       "      <th>Cod Istat</th>\n",
       "      <th>Comune</th>\n",
       "      <th>Linea fisica</th>\n",
       "      <th>Saliti24H</th>\n",
       "      <th>...</th>\n",
       "      <th>Saliti_RE</th>\n",
       "      <th>Corse_S</th>\n",
       "      <th>Corse_R</th>\n",
       "      <th>Corse_RE</th>\n",
       "      <th>Tipo giorno</th>\n",
       "      <th>Anno</th>\n",
       "      <th>Calendario</th>\n",
       "      <th>Location</th>\n",
       "      <th>POINT_X</th>\n",
       "      <th>POINT_Y</th>\n",
       "    </tr>\n",
       "  </thead>\n",
       "  <tbody>\n",
       "    <tr>\n",
       "      <th>0</th>\n",
       "      <td>c_maggio2024</td>\n",
       "      <td>-</td>\n",
       "      <td>-</td>\n",
       "      <td>EM</td>\n",
       "      <td>-</td>\n",
       "      <td>-</td>\n",
       "      <td>-</td>\n",
       "      <td>-</td>\n",
       "      <td>-</td>\n",
       "      <td>1360</td>\n",
       "      <td>...</td>\n",
       "      <td>0</td>\n",
       "      <td>0</td>\n",
       "      <td>134</td>\n",
       "      <td>0</td>\n",
       "      <td>Feriale</td>\n",
       "      <td>2024</td>\n",
       "      <td>invernale (mag)</td>\n",
       "      <td>0</td>\n",
       "      <td>0.000000</td>\n",
       "      <td>0.00000</td>\n",
       "    </tr>\n",
       "    <tr>\n",
       "      <th>1</th>\n",
       "      <td>c_maggio2024</td>\n",
       "      <td>-</td>\n",
       "      <td>-</td>\n",
       "      <td>PI</td>\n",
       "      <td>-</td>\n",
       "      <td>-</td>\n",
       "      <td>-</td>\n",
       "      <td>-</td>\n",
       "      <td>-</td>\n",
       "      <td>4330</td>\n",
       "      <td>...</td>\n",
       "      <td>2900</td>\n",
       "      <td>0</td>\n",
       "      <td>217</td>\n",
       "      <td>84</td>\n",
       "      <td>Feriale</td>\n",
       "      <td>2024</td>\n",
       "      <td>invernale (mag)</td>\n",
       "      <td>0</td>\n",
       "      <td>0.000000</td>\n",
       "      <td>0.00000</td>\n",
       "    </tr>\n",
       "    <tr>\n",
       "      <th>2</th>\n",
       "      <td>c_maggio2024</td>\n",
       "      <td>-</td>\n",
       "      <td>-</td>\n",
       "      <td>VE</td>\n",
       "      <td>-</td>\n",
       "      <td>-</td>\n",
       "      <td>-</td>\n",
       "      <td>-</td>\n",
       "      <td>-</td>\n",
       "      <td>6640</td>\n",
       "      <td>...</td>\n",
       "      <td>6640</td>\n",
       "      <td>0</td>\n",
       "      <td>0</td>\n",
       "      <td>33</td>\n",
       "      <td>Feriale</td>\n",
       "      <td>2024</td>\n",
       "      <td>invernale (mag)</td>\n",
       "      <td>0</td>\n",
       "      <td>0.000000</td>\n",
       "      <td>0.00000</td>\n",
       "    </tr>\n",
       "    <tr>\n",
       "      <th>3</th>\n",
       "      <td>c_maggio2024</td>\n",
       "      <td>-</td>\n",
       "      <td>-</td>\n",
       "      <td>ZZ</td>\n",
       "      <td>-</td>\n",
       "      <td>-</td>\n",
       "      <td>-</td>\n",
       "      <td>-</td>\n",
       "      <td>-</td>\n",
       "      <td>1320</td>\n",
       "      <td>...</td>\n",
       "      <td>0</td>\n",
       "      <td>44</td>\n",
       "      <td>0</td>\n",
       "      <td>0</td>\n",
       "      <td>Feriale</td>\n",
       "      <td>2024</td>\n",
       "      <td>invernale (mag)</td>\n",
       "      <td>0</td>\n",
       "      <td>0.000000</td>\n",
       "      <td>0.00000</td>\n",
       "    </tr>\n",
       "    <tr>\n",
       "      <th>4</th>\n",
       "      <td>c_maggio2024</td>\n",
       "      <td>146</td>\n",
       "      <td>S01416</td>\n",
       "      <td>LO</td>\n",
       "      <td>LC</td>\n",
       "      <td>ABBADIA LARIANA</td>\n",
       "      <td>97001</td>\n",
       "      <td>Abbadia Lariana</td>\n",
       "      <td>TIRANO-MILANO Lc-So</td>\n",
       "      <td>190</td>\n",
       "      <td>...</td>\n",
       "      <td>30</td>\n",
       "      <td>0</td>\n",
       "      <td>26</td>\n",
       "      <td>1</td>\n",
       "      <td>Feriale</td>\n",
       "      <td>2024</td>\n",
       "      <td>invernale (mag)</td>\n",
       "      <td>POINT (9.335204987 45.895939932)</td>\n",
       "      <td>9.335205</td>\n",
       "      <td>45.89594</td>\n",
       "    </tr>\n",
       "  </tbody>\n",
       "</table>\n",
       "<p>5 rows × 26 columns</p>\n",
       "</div>"
      ],
      "text/plain": [
       "       Campagna Codice stazione Codice aziendale Reg Prov         Stazione  \\\n",
       "0  c_maggio2024               -                -  EM    -                -   \n",
       "1  c_maggio2024               -                -  PI    -                -   \n",
       "2  c_maggio2024               -                -  VE    -                -   \n",
       "3  c_maggio2024               -                -  ZZ    -                -   \n",
       "4  c_maggio2024             146           S01416  LO   LC  ABBADIA LARIANA   \n",
       "\n",
       "  Cod Istat           Comune         Linea fisica  Saliti24H  ...  Saliti_RE  \\\n",
       "0         -                -                    -       1360  ...          0   \n",
       "1         -                -                    -       4330  ...       2900   \n",
       "2         -                -                    -       6640  ...       6640   \n",
       "3         -                -                    -       1320  ...          0   \n",
       "4     97001  Abbadia Lariana  TIRANO-MILANO Lc-So        190  ...         30   \n",
       "\n",
       "   Corse_S  Corse_R  Corse_RE  Tipo giorno  Anno       Calendario  \\\n",
       "0        0      134         0      Feriale  2024  invernale (mag)   \n",
       "1        0      217        84      Feriale  2024  invernale (mag)   \n",
       "2        0        0        33      Feriale  2024  invernale (mag)   \n",
       "3       44        0         0      Feriale  2024  invernale (mag)   \n",
       "4        0       26         1      Feriale  2024  invernale (mag)   \n",
       "\n",
       "                           Location   POINT_X   POINT_Y  \n",
       "0                                 0  0.000000   0.00000  \n",
       "1                                 0  0.000000   0.00000  \n",
       "2                                 0  0.000000   0.00000  \n",
       "3                                 0  0.000000   0.00000  \n",
       "4  POINT (9.335204987 45.895939932)  9.335205  45.89594  \n",
       "\n",
       "[5 rows x 26 columns]"
      ]
     },
     "execution_count": 61,
     "metadata": {},
     "output_type": "execute_result"
    }
   ],
   "source": [
    "file_path_lombardia = 'dataset/datiTreniLombardia.csv'\n",
    "data_lombardia = pd.read_csv(file_path_lombardia, sep=',', decimal='.')\n",
    "\n",
    "data_lombardia.head()\n"
   ]
  },
  {
   "cell_type": "code",
   "execution_count": 62,
   "metadata": {},
   "outputs": [
    {
     "name": "stdout",
     "output_type": "stream",
     "text": [
      "   Prov  Saliti24H\n",
      "0    BG      33780\n",
      "1    BS      33350\n",
      "2    CO      36740\n",
      "3    CR       7830\n",
      "4    LC      30800\n",
      "5    LO      11890\n",
      "6    MI     432990\n",
      "7    MN       1000\n",
      "8    PV      26420\n",
      "9    SO       5930\n",
      "10   VA      81750\n"
     ]
    }
   ],
   "source": [
    "data_lo = data_lombardia[data_lombardia['Reg'] == 'LO']\n",
    "\n",
    "grouped_data_lo = data_lo.groupby('Prov')['Saliti24H'].sum().reset_index()\n",
    "\n",
    "print(grouped_data_lo)"
   ]
  },
  {
   "cell_type": "code",
   "execution_count": 63,
   "metadata": {},
   "outputs": [
    {
     "name": "stdout",
     "output_type": "stream",
     "text": [
      "   Prov  Saliti24H\n",
      "6    MI     432990\n",
      "10   VA      81750\n",
      "2    CO      36740\n",
      "0    BG      33780\n",
      "1    BS      33350\n",
      "4    LC      30800\n",
      "8    PV      26420\n",
      "5    LO      11890\n",
      "3    CR       7830\n",
      "9    SO       5930\n",
      "7    MN       1000\n"
     ]
    },
    {
     "data": {
      "image/png": "[encoded data removed]",
      "text/plain": [
       "<Figure size 1000x600 with 1 Axes>"
      ]
     },
     "metadata": {},
     "output_type": "display_data"
    }
   ],
   "source": [
    "grouped_data_lo_sorted = grouped_data_lo.sort_values(by='Saliti24H', ascending=False)\n",
    "\n",
    "print(grouped_data_lo_sorted)\n",
    "plt.figure(figsize=(10, 6))\n",
    "plt.bar(grouped_data_lo_sorted['Prov'], grouped_data_lo_sorted['Saliti24H'])\n",
    "plt.xlabel('Provincia')\n",
    "plt.ylabel('Saliti nelle 24H')\n",
    "plt.title('Numero di saliti nelle 24H per provincia in Lombardia')\n",
    "plt.xticks(rotation=45)\n",
    "plt.gca().yaxis.set_major_formatter(plt.FuncFormatter(lambda x, _: f'{int(x/1000)}k'))\n",
    "# Modifica i dati nell'asse delle x\n",
    "x_labels = grouped_data_lo_sorted['Prov'].replace('MI', 'MI e MB')\n",
    "plt.xticks(ticks=np.arange(len(x_labels)), labels=x_labels, rotation=45)\n",
    "plt.show()\n"
   ]
  },
  {
   "cell_type": "code",
   "execution_count": 64,
   "metadata": {
    "vscode": {
     "languageId": "ruby"
    }
   },
   "outputs": [
    {
     "name": "stdout",
     "output_type": "stream",
     "text": [
      "   Prov Tipo giorno  Saliti24H  Discesi7-9  Saliti_per_ora  Discesi_per_ora\n",
      "0    BG     Feriale      33780        6090     1407.500000      2030.000000\n",
      "1    BS     Feriale      33350        6020     1389.583333      2006.666667\n",
      "2    CO     Feriale      36740        5940     1530.833333      1980.000000\n",
      "3    CR     Feriale       7830        1640      326.250000       546.666667\n",
      "4    LC     Feriale      30800        5290     1283.333333      1763.333333\n",
      "5    LO     Feriale      11890        2000      495.416667       666.666667\n",
      "6    MI     Feriale     432990      114240    18041.250000     38080.000000\n",
      "7    MN     Feriale       1000         140       41.666667        46.666667\n",
      "8    PV     Feriale      26420        5090     1100.833333      1696.666667\n",
      "9    SO     Feriale       5930        1660      247.083333       553.333333\n",
      "10   VA     Feriale      81750       15000     3406.250000      5000.000000\n",
      "   Prov  Saliti24H  Discesi7-9  Saliti7-9  Corse7-9  Corse24H  Saliti_per_ora  \\\n",
      "0    BG      33780        6090       9740       182      1254     1407.500000   \n",
      "1    BS      33350        6020       6490       244      1804     1389.583333   \n",
      "2    CO      36740        5940      10350       274      2101     1530.833333   \n",
      "3    CR       7830        1640       2030        88       682      326.250000   \n",
      "4    LC      30800        5290       7580       200      1492     1283.333333   \n",
      "5    LO      11890        2000       3340        68       487      495.416667   \n",
      "6    MI     432990      114240      88090      1787     13893    18041.250000   \n",
      "7    MN       1000         140        230        11        91       41.666667   \n",
      "8    PV      26420        5090       7140       218      1517     1100.833333   \n",
      "9    SO       5930        1660       1540        71       498      247.083333   \n",
      "10   VA      81750       15000      22870       513      3928     3406.250000   \n",
      "\n",
      "    Discesi_per_ora  \n",
      "0       2030.000000  \n",
      "1       2006.666667  \n",
      "2       1980.000000  \n",
      "3        546.666667  \n",
      "4       1763.333333  \n",
      "5        666.666667  \n",
      "6      38080.000000  \n",
      "7         46.666667  \n",
      "8       1696.666667  \n",
      "9        553.333333  \n",
      "10      5000.000000  \n"
     ]
    }
   ],
   "source": [
    "grouped_data_lo_province = data_lo.groupby('Prov')[['Saliti24H', 'Discesi7-9', 'Saliti7-9', 'Corse7-9', 'Corse24H']].sum().reset_index()\n",
    "\n",
    "grouped_data_lo_province['Saliti_per_ora'] = grouped_data_lo_province['Saliti24H'] / 24\n",
    "grouped_data_lo_province['Discesi_per_ora'] = grouped_data_lo_province['Discesi7-9'] / 3  \n",
    "\n",
    "grouped_data_lo_province_day_type = data_lo.groupby(['Prov', 'Tipo giorno'])[['Saliti24H', 'Discesi7-9']].sum().reset_index()\n",
    "\n",
    "grouped_data_lo_province_day_type['Saliti_per_ora'] = grouped_data_lo_province_day_type['Saliti24H'] / 24\n",
    "grouped_data_lo_province_day_type['Discesi_per_ora'] = grouped_data_lo_province_day_type['Discesi7-9'] / 3 \n",
    "\n",
    "print(grouped_data_lo_province_day_type)\n",
    "print(grouped_data_lo_province)"
   ]
  },
  {
   "cell_type": "code",
   "execution_count": null,
   "metadata": {},
   "outputs": [
    {
     "data": {
      "image/png": "[encoded data removed]",
      "text/plain": [
       "<Figure size 1400x800 with 1 Axes>"
      ]
     },
     "metadata": {},
     "output_type": "display_data"
    }
   ],
   "source": [
    "grouped_data_lo_province_sorted = grouped_data_lo_province.sort_values(by='Discesi7-9', ascending=False)\n",
    "grouped_data_lo_province_sorted['Avg_Passengers_per_Train'] = grouped_data_lo_province_sorted['Saliti24H'] / grouped_data_lo_province_sorted['Corse24H']\n",
    "\n",
    "bar_width = 0.35\n",
    "\n",
    "r1 = np.arange(len(grouped_data_lo_province_sorted))\n",
    "\n",
    "plt.figure(figsize=(14, 8))\n",
    "plt.bar(r1, grouped_data_lo_province_sorted['Avg_Passengers_per_Train'], width=bar_width, edgecolor='grey', label='Passeggeri medi per treno')\n",
    "\n",
    "plt.xlabel('Provincia', fontweight='bold')\n",
    "plt.ylabel('Passeggeri medi per treno', fontweight='bold')\n",
    "plt.title('Numero medio di passeggeri scesi al capolinea per treno in Lombardia in orario di punta', fontweight='bold')\n",
    "\n",
    "x_labels = grouped_data_lo_province_sorted['Prov'].replace('MI', 'MI e MB')\n",
    "plt.xticks(r1, x_labels, rotation=45)\n",
    "\n",
    "plt.legend()\n",
    "plt.show()"
   ]
  },
  {
   "cell_type": "code",
   "execution_count": null,
   "metadata": {},
   "outputs": [
    {
     "data": {
      "image/png": "[encoded data removed]",
      "text/plain": [
       "<Figure size 1400x800 with 1 Axes>"
      ]
     },
     "metadata": {},
     "output_type": "display_data"
    }
   ],
   "source": [
    "grouped_data_lo_province_sorted = grouped_data_lo_province.sort_values(by='Discesi7-9', ascending=False)\n",
    "grouped_data_lo_province_sorted['Avg_Passengers_per_Train'] = grouped_data_lo_province_sorted['Saliti24H'] / grouped_data_lo_province_sorted['Corse7-9']\n",
    "\n",
    "bar_width = 0.35\n",
    "\n",
    "r1 = np.arange(len(grouped_data_lo_province_sorted))\n",
    "\n",
    "plt.figure(figsize=(14, 8))\n",
    "plt.bar(r1, grouped_data_lo_province_sorted['Avg_Passengers_per_Train'], width=bar_width, edgecolor='grey', label='Passeggeri medi per treno')\n",
    "\n",
    "plt.xlabel('Provincia', fontweight='bold')\n",
    "plt.ylabel('Passeggeri medi per treno', fontweight='bold')\n",
    "plt.title('Numero medio di passeggeri per treno per provincia in Lombardia', fontweight='bold')\n",
    "\n",
    "x_labels = grouped_data_lo_province_sorted['Prov'].replace('MI', 'MI e MB')\n",
    "plt.xticks(r1, x_labels, rotation=45)\n",
    "\n",
    "plt.legend()\n",
    "plt.show()"
   ]
  },
  {
   "cell_type": "code",
   "execution_count": 34,
   "metadata": {},
   "outputs": [
    {
     "data": {
      "image/png": "[encoded data removed]",
      "text/plain": [
       "<Figure size 1400x800 with 1 Axes>"
      ]
     },
     "metadata": {},
     "output_type": "display_data"
    }
   ],
   "source": [
    "grouped_data_lo_province_sorted = grouped_data_lo_province.sort_values(by='Saliti_per_ora', ascending=False)\n",
    "\n",
    "bar_width = 0.35\n",
    "\n",
    "r1 = np.arange(len(grouped_data_lo_province_sorted))\n",
    "r2 = [x + bar_width for x in r1]\n",
    "\n",
    "plt.figure(figsize=(14, 8))\n",
    "plt.bar(r1, grouped_data_lo_province_sorted['Saliti_per_ora'], width=bar_width, edgecolor='grey', label='Saliti per ora')\n",
    "plt.bar(r2, grouped_data_lo_province_sorted['Discesi_per_ora'], color='r', alpha=0.8, width=bar_width, edgecolor='grey', label='Discesi per ora')\n",
    "\n",
    "plt.xlabel('Provincia', fontweight='bold')\n",
    "plt.ylabel('Passeggeri per ora', fontweight='bold')\n",
    "plt.title('Saliti e Discesi per ora medio per provincia in Lombardia', fontweight='bold')\n",
    "\n",
    "x_labels = grouped_data_lo_province_sorted['Prov'].replace('MI', 'MI e MB')\n",
    "plt.xticks([r + bar_width/2 for r in range(len(grouped_data_lo_province_sorted))], x_labels, rotation=45)\n",
    "\n",
    "plt.legend()\n",
    "plt.show()"
   ]
  },
  {
   "cell_type": "code",
   "execution_count": 35,
   "metadata": {},
   "outputs": [],
   "source": [
    "file_path_ritardi = 'dataset/ritardiItalia.csv'\n",
    "data_ritardi = pd.read_csv(file_path_ritardi, sep=',', decimal='.')\n",
    "\n",
    "ndas = data_ritardi['train_arrival_stop_name']\n",
    "\n",
    "dd = data_lombardia['Stazione']\n",
    "fermate_comuni = pd.merge(dd.drop_duplicates(), ndas.drop_duplicates(), left_on='Stazione', right_on='train_arrival_stop_name', how='left')\n",
    "fermate_comuni.to_csv('fermate_comuni.csv', index=True)"
   ]
  },
  {
   "cell_type": "code",
   "execution_count": 36,
   "metadata": {},
   "outputs": [
    {
     "name": "stdout",
     "output_type": "stream",
     "text": [
      "                Stazione  Saliti24H  avg_arrival_delay    POINT_X    POINT_Y\n",
      "0                  ARONA     1320.0           3.613431   8.559108   4.575531\n",
      "1                BERGAMO    10170.0           2.923070   9.675111  45.690344\n",
      "2                 BESANA      560.0           1.877882   0.928291  45.702902\n",
      "3                BRESCIA    11880.0           2.973620  10.212859   4.553239\n",
      "4          BUSTO ARSIZIO     4930.0           2.183451   8.865064  45.616238\n",
      "5         CARNATE USMATE     4490.0           3.765856   9.375117  45.653150\n",
      "6                CHIASSO     5640.0           2.380999   9.031333   4.583194\n",
      "7              CHIAVENNA      500.0           2.210379   0.940716  46.321335\n",
      "8                CODOGNO     2280.0           4.367855   9.701406  45.154979\n",
      "9                 COLICO     1550.0           2.096147   9.375256  46.138093\n",
      "10         COSTA MASNAGA      360.0           1.383788   0.928526  45.763506\n",
      "11               CREMONA     2800.0           3.969900  10.017983  45.143301\n",
      "12             GALLARATE     7530.0           3.957719   8.798282  45.659902\n",
      "13                 LECCO     9950.0           3.369376   0.939368  45.856547\n",
      "14                LIERNA      290.0           2.776091   9.303109  45.961044\n",
      "15                  LODI     5710.0           1.551224   9.497613  45.309042\n",
      "16                 LUINO      270.0           3.785797   8.737498  45.996714\n",
      "17             MELEGNANO     2610.0           3.874864   9.319302  45.356406\n",
      "18       MILANO CENTRALE    36170.0           3.557436   9.204868  45.486277\n",
      "19        MILANO CERTOSA     5500.0           4.272842   9.133939  45.507008\n",
      "20  MILANO GRECO PIRELLI    11980.0           2.684228   9.214497  45.512803\n",
      "21       MILANO LAMBRATE    16440.0           1.880014   9.237362  45.485012\n",
      "22       MILANO LANCETTI     5130.0           4.302747   9.177354  45.493472\n",
      "23    MILANO NORD BOVISA    21720.0           2.820133   9.158987   4.550378\n",
      "24     MILANO P.G. PASS.    18980.0           3.420662   9.185955  45.484354\n",
      "25   MILANO PORTA GENOVA     6590.0           3.790456   9.169331  45.453458\n",
      "26       MILANO ROGOREDO    14460.0           3.336961   9.238727   4.543485\n",
      "27  MILANO S. CRISTOFORO     2840.0          19.983516   9.130288  45.442479\n",
      "28               MOLTENO      660.0           3.344402   9.301712  45.781015\n",
      "29                 MONZA    22140.0           2.470506   9.273281  45.577867\n",
      "30               MORTARA     2830.0           3.783577   8.731681  45.252256\n",
      "31   Milano Nord Cadorna    34680.0           0.468243   9.175179  45.468514\n",
      "32                NOVARA     2820.0           2.618630   0.086250   4.545130\n",
      "33                 PAVIA     9410.0           3.335207   9.144714  45.188924\n",
      "34              PIACENZA     1590.0           2.850043   9.706305   4.505208\n",
      "35               PIADENA      910.0           2.946227  10.369988  45.127689\n",
      "36        PONTE S.PIETRO     2480.0          19.122304   9.584360  45.699233\n",
      "37         PORTO CERESIO      750.0           3.333925   8.900389  45.903751\n",
      "38                   RHO     6830.0           2.312095   9.043584  45.523928\n",
      "39                ROVATO     2640.0           4.805006  10.000952  45.552008\n",
      "40               SEREGNO     6800.0           8.405978   9.202886  45.646088\n",
      "41         SESTO CALENDE     1230.0           4.376700   8.628170  45.726314\n",
      "42               SONDRIO     1790.0           4.883746   0.987296  46.167142\n",
      "43             STRADELLA      440.0           3.444105   9.300895  45.079551\n",
      "44                TIRANO      880.0           2.662458  10.166987  46.215458\n",
      "45          TORREBERETTI      190.0           6.689949   8.660467  45.060616\n",
      "46               TORTONA      730.0           3.838527   0.886182   4.490007\n",
      "47             TREVIGLIO     8210.0           3.299159   9.587945  45.515141\n",
      "48               VALENZA      400.0           3.780171   8.625966   4.502351\n",
      "49                VARESE     5620.0           2.894550   8.833131  45.816277\n",
      "50               VOGHERA     1630.0           2.867968   9.007972  44.997878\n"
     ]
    }
   ],
   "source": [
    "fermate_comuni = pd.merge(data_lombardia, data_ritardi, left_on='Stazione', right_on='train_arrival_stop_name')\n",
    "\n",
    "fermate_comuni_mean = fermate_comuni.groupby('Stazione').agg({\n",
    "\t'Saliti24H': 'mean',\n",
    "\t'avg_arrival_delay': 'mean',\n",
    "\t'POINT_X': 'first',\n",
    "\t'POINT_Y': 'first'\n",
    "}).reset_index()\n",
    "\n",
    "print(fermate_comuni_mean[['Stazione', 'Saliti24H', 'avg_arrival_delay', 'POINT_X', 'POINT_Y']])\n"
   ]
  },
  {
   "cell_type": "code",
   "execution_count": 37,
   "metadata": {},
   "outputs": [
    {
     "data": {
      "image/png": "[encoded data removed]",
      "text/plain": [
       "<Figure size 1400x800 with 1 Axes>"
      ]
     },
     "metadata": {},
     "output_type": "display_data"
    },
    {
     "name": "stderr",
     "output_type": "stream",
     "text": [
      "/var/folders/l_/g9z6nmyj7zq9g1y79tdg1q380000gn/T/ipykernel_98229/1538654998.py:17: UserWarning:\n",
      "\n",
      "set_ticklabels() should only be used with a fixed number of ticks, i.e. after set_ticks() or using a FixedLocator.\n",
      "\n"
     ]
    },
    {
     "data": {
      "image/png": "[encoded data removed]",
      "text/plain": [
       "<Figure size 1400x800 with 2 Axes>"
      ]
     },
     "metadata": {},
     "output_type": "display_data"
    }
   ],
   "source": [
    "\n",
    "fermate_comuni_mean_sorted = fermate_comuni_mean.sort_values(by='Saliti24H', ascending=False)\n",
    "\n",
    "plt.figure(figsize=(14, 8))\n",
    "plt.bar(fermate_comuni_mean_sorted['Stazione'], fermate_comuni_mean_sorted['Saliti24H'], color='skyblue')\n",
    "plt.xlabel('Stazione')\n",
    "plt.ylabel('Numero medio di passeggeri saliti')\n",
    "plt.title('Numero medio di passeggeri saliti per stazione')\n",
    "plt.xticks(rotation=90)\n",
    "plt.show()\n",
    "fig, ax1 = plt.subplots(figsize=(14, 8))\n",
    "\n",
    "color = 'tab:blue'\n",
    "ax1.set_xlabel('Stazione')\n",
    "ax1.set_ylabel('Numero medio di passeggeri saliti', color=color)\n",
    "ax1.bar(fermate_comuni_mean_sorted['Stazione'], fermate_comuni_mean_sorted['Saliti24H'], color=color)\n",
    "ax1.tick_params(axis='y', labelcolor=color)\n",
    "ax1.set_xticklabels(fermate_comuni_mean_sorted['Stazione'], rotation=90)\n",
    "\n",
    "ax2 = ax1.twinx()  \n",
    "color = 'tab:red'\n",
    "ax2.set_ylabel('Ritardo medio (minuti)', color=color)\n",
    "ax2.scatter(fermate_comuni_mean_sorted['Stazione'], fermate_comuni_mean_sorted['avg_arrival_delay'], color=color)\n",
    "ax2.tick_params(axis='y', labelcolor=color)\n",
    "\n",
    "fig.tight_layout()  \n",
    "plt.title('Numero medio di passeggeri saliti e ritardo medio per stazione')\n",
    "plt.show()"
   ]
  },
  {
   "cell_type": "code",
   "execution_count": 73,
   "metadata": {},
   "outputs": [
    {
     "data": {
      "image/png": "[encoded data removed]",
      "text/plain": [
       "<Figure size 1400x800 with 1 Axes>"
      ]
     },
     "metadata": {},
     "output_type": "display_data"
    }
   ],
   "source": [
    "fermate_comuni_mean_sorted['Total_Delay_Minutes'] = (fermate_comuni_mean_sorted['avg_arrival_delay'] * fermate_comuni_mean_sorted['Saliti24H']) / (60 * 24)\n",
    "\n",
    "plt.figure(figsize=(14, 8))\n",
    "plt.bar(fermate_comuni_mean_sorted['Stazione'], fermate_comuni_mean_sorted['Total_Delay_Minutes'], color='red', alpha=0.8)\n",
    "plt.xlabel('Stazione')\n",
    "plt.ylabel('Giorni/uomo di ritardo')\n",
    "plt.title('Giorni/uomo di ritardo per stazione')\n",
    "plt.xticks(rotation=90)\n",
    "plt.show()\n"
   ]
  },
  {
   "cell_type": "code",
   "execution_count": 38,
   "metadata": {},
   "outputs": [
    {
     "name": "stdout",
     "output_type": "stream",
     "text": [
      "                 Linea fisica  Saliti24H\n",
      "25  Milano Nord Cadorna - Sar      96030\n"
     ]
    }
   ],
   "source": [
    "linea_con_piu_passeggeri = data_lombardia.groupby('Linea fisica')['Saliti24H'].sum().reset_index()\n",
    "linea_con_piu_passeggeri_sorted = linea_con_piu_passeggeri.sort_values(by='Saliti24H', ascending=False)\n",
    "\n",
    "print(linea_con_piu_passeggeri_sorted.head(1))"
   ]
  },
  {
   "cell_type": "code",
   "execution_count": 39,
   "metadata": {},
   "outputs": [
    {
     "data": {
      "application/vnd.plotly.v1+json": {
       "config": {
        "plotlyServerURL": "https://plot.ly"
       },
       "data": [
        {
         "coloraxis": "coloraxis",
         "customdata": [
          [
           "ARONA"
          ],
          [
           "BERGAMO"
          ],
          [
           "BESANA"
          ],
          [
           "BRESCIA"
          ],
          [
           "BUSTO ARSIZIO"
          ],
          [
           "CARNATE USMATE"
          ],
          [
           "CHIASSO"
          ],
          [
           "CHIAVENNA"
          ],
          [
           "CODOGNO"
          ],
          [
           "COLICO"
          ],
          [
           "COSTA MASNAGA"
          ],
          [
           "CREMONA"
          ],
          [
           "GALLARATE"
          ],
          [
           "LECCO"
          ],
          [
           "LIERNA"
          ],
          [
           "LODI"
          ],
          [
           "LUINO"
          ],
          [
           "MELEGNANO"
          ],
          [
           "MILANO CENTRALE"
          ],
          [
           "MILANO CERTOSA"
          ],
          [
           "MILANO GRECO PIRELLI"
          ],
          [
           "MILANO LAMBRATE"
          ],
          [
           "MILANO LANCETTI"
          ],
          [
           "MILANO NORD BOVISA"
          ],
          [
           "MILANO P.G. PASS."
          ],
          [
           "MILANO PORTA GENOVA"
          ],
          [
           "MILANO ROGOREDO"
          ],
          [
           "MILANO S. CRISTOFORO"
          ],
          [
           "MOLTENO"
          ],
          [
           "MONZA"
          ],
          [
           "MORTARA"
          ],
          [
           "Milano Nord Cadorna"
          ],
          [
           "NOVARA"
          ],
          [
           "PAVIA"
          ],
          [
           "PIACENZA"
          ],
          [
           "PIADENA"
          ],
          [
           "PONTE S.PIETRO"
          ],
          [
           "PORTO CERESIO"
          ],
          [
           "RHO"
          ],
          [
           "ROVATO"
          ],
          [
           "SEREGNO"
          ],
          [
           "SESTO CALENDE"
          ],
          [
           "SONDRIO"
          ],
          [
           "STRADELLA"
          ],
          [
           "TIRANO"
          ],
          [
           "TORREBERETTI"
          ],
          [
           "TORTONA"
          ],
          [
           "TREVIGLIO"
          ],
          [
           "VALENZA"
          ],
          [
           "VARESE"
          ],
          [
           "VOGHERA"
          ]
         ],
         "hovertemplate": "<b>%{customdata[0]}</b><br>Ritardo medio: %{z:.2f} minuti<extra></extra>",
         "lat": [
          4.575531295,
          45.690343725,
          45.702901578,
          4.553239364,
          45.616237821,
          45.653149706,
          4.583194478,
          46.321335044,
          45.154978635,
          46.138093311,
          45.763506456,
          45.143301262,
          45.659901549,
          45.856547373,
          45.961043911,
          45.309042271,
          45.996713632,
          45.356405865,
          45.486276592,
          45.507007737,
          45.512803065,
          45.485012046,
          45.493471578,
          4.550377781,
          45.484354097,
          45.453458231,
          4.543484983,
          45.442478529,
          45.781015442,
          45.577867268,
          45.252256076,
          45.468514231,
          4.545129662,
          45.188924433,
          4.505208441,
          45.127689005,
          45.699232686,
          45.903750516,
          45.523927896,
          45.552008269,
          45.646087713,
          45.726314213,
          46.167141595,
          45.079551322,
          46.215458161,
          45.060615837,
          4.490006568,
          45.515141265,
          4.502351446,
          45.816277257,
          44.997878065
         ],
         "lon": [
          8.559107617,
          9.675111057,
          0.928291338,
          10.212859202,
          8.865063882,
          9.375117342,
          9.031333374,
          0.940716091,
          9.701405698,
          9.375255676,
          0.928526064,
          10.017983096,
          8.79828248,
          0.939367574,
          9.303109353,
          9.497612624,
          8.737497575,
          9.319302,
          9.204867788,
          9.13393857,
          9.214496679,
          9.237361806,
          9.177354467,
          9.158986972,
          9.185954917,
          9.169330605,
          9.238727378,
          9.130288258,
          9.301712216,
          9.273281444,
          8.73168138,
          9.175179183,
          0.086249717,
          9.144713646,
          9.706305088,
          10.369987543,
          9.584359693,
          8.900389083,
          9.043583998,
          10.000952147,
          9.202885996,
          8.62816964,
          0.987296139,
          9.300895387,
          10.166987267,
          8.660466652,
          0.886181929,
          9.587945358,
          8.625966209,
          8.83313115,
          9.007971677
         ],
         "name": "",
         "radius": 35,
         "subplot": "mapbox",
         "type": "densitymapbox",
         "z": [
          3.6134308750293114,
          2.9230696408221903,
          1.8778818036087277,
          2.973619861521573,
          2.1834509272455027,
          3.765856194283614,
          2.3809989276085144,
          2.2103791589596726,
          4.367854817090847,
          2.096147129428304,
          1.3837879742301378,
          3.969900295287994,
          3.957719423621407,
          3.3693757911357576,
          2.7760912698412703,
          1.5512236913197464,
          3.7857972611643036,
          3.874863769388352,
          3.5574357762733837,
          4.272842008228243,
          2.684227882746277,
          1.880014228051605,
          4.302747309610985,
          2.820133252480642,
          3.4206616873006563,
          3.790455926482647,
          3.3369605085725755,
          19.98351648351649,
          3.3444019448772337,
          2.47050560328196,
          3.7835771320134004,
          0.46824329552791183,
          2.6186296258223734,
          3.335207385169489,
          2.8500430147223534,
          2.9462270200347525,
          19.12230392156863,
          3.3339253478345774,
          2.312095083729641,
          4.805006484199031,
          8.405977866071137,
          4.376699757324077,
          4.883746322383844,
          3.4441045334314233,
          2.6624581600773767,
          6.689948900019694,
          3.838527379102196,
          3.2991586576423484,
          3.7801714208996304,
          2.894549856433744,
          2.867967755211137
         ]
        }
       ],
       "layout": {
        "coloraxis": {
         "colorbar": {
          "title": {
           "text": "ritardo medio in minuti"
          }
         },
         "colorscale": [
          [
           0,
           "#0d0887"
          ],
          [
           0.1111111111111111,
           "#46039f"
          ],
          [
           0.2222222222222222,
           "#7201a8"
          ],
          [
           0.3333333333333333,
           "#9c179e"
          ],
          [
           0.4444444444444444,
           "#bd3786"
          ],
          [
           0.5555555555555556,
           "#d8576b"
          ],
          [
           0.6666666666666666,
           "#ed7953"
          ],
          [
           0.7777777777777778,
           "#fb9f3a"
          ],
          [
           0.8888888888888888,
           "#fdca26"
          ],
          [
           1,
           "#f0f921"
          ]
         ]
        },
        "height": 800,
        "legend": {
         "tracegroupgap": 0
        },
        "mapbox": {
         "center": {
          "lat": 45.47061844608548,
          "lon": 9.181520912266429
         },
         "domain": {
          "x": [
           0,
           1
          ],
          "y": [
           0,
           1
          ]
         },
         "style": "open-street-map",
         "zoom": 8
        },
        "margin": {
         "t": 60
        },
        "template": {
         "data": {
          "bar": [
           {
            "error_x": {
             "color": "#2a3f5f"
            },
            "error_y": {
             "color": "#2a3f5f"
            },
            "marker": {
             "line": {
              "color": "#E5ECF6",
              "width": 0.5
             },
             "pattern": {
              "fillmode": "overlay",
              "size": 10,
              "solidity": 0.2
             }
            },
            "type": "bar"
           }
          ],
          "barpolar": [
           {
            "marker": {
             "line": {
              "color": "#E5ECF6",
              "width": 0.5
             },
             "pattern": {
              "fillmode": "overlay",
              "size": 10,
              "solidity": 0.2
             }
            },
            "type": "barpolar"
           }
          ],
          "carpet": [
           {
            "aaxis": {
             "endlinecolor": "#2a3f5f",
             "gridcolor": "white",
             "linecolor": "white",
             "minorgridcolor": "white",
             "startlinecolor": "#2a3f5f"
            },
            "baxis": {
             "endlinecolor": "#2a3f5f",
             "gridcolor": "white",
             "linecolor": "white",
             "minorgridcolor": "white",
             "startlinecolor": "#2a3f5f"
            },
            "type": "carpet"
           }
          ],
          "choropleth": [
           {
            "colorbar": {
             "outlinewidth": 0,
             "ticks": ""
            },
            "type": "choropleth"
           }
          ],
          "contour": [
           {
            "colorbar": {
             "outlinewidth": 0,
             "ticks": ""
            },
            "colorscale": [
             [
              0,
              "#0d0887"
             ],
             [
              0.1111111111111111,
              "#46039f"
             ],
             [
              0.2222222222222222,
              "#7201a8"
             ],
             [
              0.3333333333333333,
              "#9c179e"
             ],
             [
              0.4444444444444444,
              "#bd3786"
             ],
             [
              0.5555555555555556,
              "#d8576b"
             ],
             [
              0.6666666666666666,
              "#ed7953"
             ],
             [
              0.7777777777777778,
              "#fb9f3a"
             ],
             [
              0.8888888888888888,
              "#fdca26"
             ],
             [
              1,
              "#f0f921"
             ]
            ],
            "type": "contour"
           }
          ],
          "contourcarpet": [
           {
            "colorbar": {
             "outlinewidth": 0,
             "ticks": ""
            },
            "type": "contourcarpet"
           }
          ],
          "heatmap": [
           {
            "colorbar": {
             "outlinewidth": 0,
             "ticks": ""
            },
            "colorscale": [
             [
              0,
              "#0d0887"
             ],
             [
              0.1111111111111111,
              "#46039f"
             ],
             [
              0.2222222222222222,
              "#7201a8"
             ],
             [
              0.3333333333333333,
              "#9c179e"
             ],
             [
              0.4444444444444444,
              "#bd3786"
             ],
             [
              0.5555555555555556,
              "#d8576b"
             ],
             [
              0.6666666666666666,
              "#ed7953"
             ],
             [
              0.7777777777777778,
              "#fb9f3a"
             ],
             [
              0.8888888888888888,
              "#fdca26"
             ],
             [
              1,
              "#f0f921"
             ]
            ],
            "type": "heatmap"
           }
          ],
          "heatmapgl": [
           {
            "colorbar": {
             "outlinewidth": 0,
             "ticks": ""
            },
            "colorscale": [
             [
              0,
              "#0d0887"
             ],
             [
              0.1111111111111111,
              "#46039f"
             ],
             [
              0.2222222222222222,
              "#7201a8"
             ],
             [
              0.3333333333333333,
              "#9c179e"
             ],
             [
              0.4444444444444444,
              "#bd3786"
             ],
             [
              0.5555555555555556,
              "#d8576b"
             ],
             [
              0.6666666666666666,
              "#ed7953"
             ],
             [
              0.7777777777777778,
              "#fb9f3a"
             ],
             [
              0.8888888888888888,
              "#fdca26"
             ],
             [
              1,
              "#f0f921"
             ]
            ],
            "type": "heatmapgl"
           }
          ],
          "histogram": [
           {
            "marker": {
             "pattern": {
              "fillmode": "overlay",
              "size": 10,
              "solidity": 0.2
             }
            },
            "type": "histogram"
           }
          ],
          "histogram2d": [
           {
            "colorbar": {
             "outlinewidth": 0,
             "ticks": ""
            },
            "colorscale": [
             [
              0,
              "#0d0887"
             ],
             [
              0.1111111111111111,
              "#46039f"
             ],
             [
              0.2222222222222222,
              "#7201a8"
             ],
             [
              0.3333333333333333,
              "#9c179e"
             ],
             [
              0.4444444444444444,
              "#bd3786"
             ],
             [
              0.5555555555555556,
              "#d8576b"
             ],
             [
              0.6666666666666666,
              "#ed7953"
             ],
             [
              0.7777777777777778,
              "#fb9f3a"
             ],
             [
              0.8888888888888888,
              "#fdca26"
             ],
             [
              1,
              "#f0f921"
             ]
            ],
            "type": "histogram2d"
           }
          ],
          "histogram2dcontour": [
           {
            "colorbar": {
             "outlinewidth": 0,
             "ticks": ""
            },
            "colorscale": [
             [
              0,
              "#0d0887"
             ],
             [
              0.1111111111111111,
              "#46039f"
             ],
             [
              0.2222222222222222,
              "#7201a8"
             ],
             [
              0.3333333333333333,
              "#9c179e"
             ],
             [
              0.4444444444444444,
              "#bd3786"
             ],
             [
              0.5555555555555556,
              "#d8576b"
             ],
             [
              0.6666666666666666,
              "#ed7953"
             ],
             [
              0.7777777777777778,
              "#fb9f3a"
             ],
             [
              0.8888888888888888,
              "#fdca26"
             ],
             [
              1,
              "#f0f921"
             ]
            ],
            "type": "histogram2dcontour"
           }
          ],
          "mesh3d": [
           {
            "colorbar": {
             "outlinewidth": 0,
             "ticks": ""
            },
            "type": "mesh3d"
           }
          ],
          "parcoords": [
           {
            "line": {
             "colorbar": {
              "outlinewidth": 0,
              "ticks": ""
             }
            },
            "type": "parcoords"
           }
          ],
          "pie": [
           {
            "automargin": true,
            "type": "pie"
           }
          ],
          "scatter": [
           {
            "fillpattern": {
             "fillmode": "overlay",
             "size": 10,
             "solidity": 0.2
            },
            "type": "scatter"
           }
          ],
          "scatter3d": [
           {
            "line": {
             "colorbar": {
              "outlinewidth": 0,
              "ticks": ""
             }
            },
            "marker": {
             "colorbar": {
              "outlinewidth": 0,
              "ticks": ""
             }
            },
            "type": "scatter3d"
           }
          ],
          "scattercarpet": [
           {
            "marker": {
             "colorbar": {
              "outlinewidth": 0,
              "ticks": ""
             }
            },
            "type": "scattercarpet"
           }
          ],
          "scattergeo": [
           {
            "marker": {
             "colorbar": {
              "outlinewidth": 0,
              "ticks": ""
             }
            },
            "type": "scattergeo"
           }
          ],
          "scattergl": [
           {
            "marker": {
             "colorbar": {
              "outlinewidth": 0,
              "ticks": ""
             }
            },
            "type": "scattergl"
           }
          ],
          "scattermapbox": [
           {
            "marker": {
             "colorbar": {
              "outlinewidth": 0,
              "ticks": ""
             }
            },
            "type": "scattermapbox"
           }
          ],
          "scatterpolar": [
           {
            "marker": {
             "colorbar": {
              "outlinewidth": 0,
              "ticks": ""
             }
            },
            "type": "scatterpolar"
           }
          ],
          "scatterpolargl": [
           {
            "marker": {
             "colorbar": {
              "outlinewidth": 0,
              "ticks": ""
             }
            },
            "type": "scatterpolargl"
           }
          ],
          "scatterternary": [
           {
            "marker": {
             "colorbar": {
              "outlinewidth": 0,
              "ticks": ""
             }
            },
            "type": "scatterternary"
           }
          ],
          "surface": [
           {
            "colorbar": {
             "outlinewidth": 0,
             "ticks": ""
            },
            "colorscale": [
             [
              0,
              "#0d0887"
             ],
             [
              0.1111111111111111,
              "#46039f"
             ],
             [
              0.2222222222222222,
              "#7201a8"
             ],
             [
              0.3333333333333333,
              "#9c179e"
             ],
             [
              0.4444444444444444,
              "#bd3786"
             ],
             [
              0.5555555555555556,
              "#d8576b"
             ],
             [
              0.6666666666666666,
              "#ed7953"
             ],
             [
              0.7777777777777778,
              "#fb9f3a"
             ],
             [
              0.8888888888888888,
              "#fdca26"
             ],
             [
              1,
              "#f0f921"
             ]
            ],
            "type": "surface"
           }
          ],
          "table": [
           {
            "cells": {
             "fill": {
              "color": "#EBF0F8"
             },
             "line": {
              "color": "white"
             }
            },
            "header": {
             "fill": {
              "color": "#C8D4E3"
             },
             "line": {
              "color": "white"
             }
            },
            "type": "table"
           }
          ]
         },
         "layout": {
          "annotationdefaults": {
           "arrowcolor": "#2a3f5f",
           "arrowhead": 0,
           "arrowwidth": 1
          },
          "autotypenumbers": "strict",
          "coloraxis": {
           "colorbar": {
            "outlinewidth": 0,
            "ticks": ""
           }
          },
          "colorscale": {
           "diverging": [
            [
             0,
             "#8e0152"
            ],
            [
             0.1,
             "#c51b7d"
            ],
            [
             0.2,
             "#de77ae"
            ],
            [
             0.3,
             "#f1b6da"
            ],
            [
             0.4,
             "#fde0ef"
            ],
            [
             0.5,
             "#f7f7f7"
            ],
            [
             0.6,
             "#e6f5d0"
            ],
            [
             0.7,
             "#b8e186"
            ],
            [
             0.8,
             "#7fbc41"
            ],
            [
             0.9,
             "#4d9221"
            ],
            [
             1,
             "#276419"
            ]
           ],
           "sequential": [
            [
             0,
             "#0d0887"
            ],
            [
             0.1111111111111111,
             "#46039f"
            ],
            [
             0.2222222222222222,
             "#7201a8"
            ],
            [
             0.3333333333333333,
             "#9c179e"
            ],
            [
             0.4444444444444444,
             "#bd3786"
            ],
            [
             0.5555555555555556,
             "#d8576b"
            ],
            [
             0.6666666666666666,
             "#ed7953"
            ],
            [
             0.7777777777777778,
             "#fb9f3a"
            ],
            [
             0.8888888888888888,
             "#fdca26"
            ],
            [
             1,
             "#f0f921"
            ]
           ],
           "sequentialminus": [
            [
             0,
             "#0d0887"
            ],
            [
             0.1111111111111111,
             "#46039f"
            ],
            [
             0.2222222222222222,
             "#7201a8"
            ],
            [
             0.3333333333333333,
             "#9c179e"
            ],
            [
             0.4444444444444444,
             "#bd3786"
            ],
            [
             0.5555555555555556,
             "#d8576b"
            ],
            [
             0.6666666666666666,
             "#ed7953"
            ],
            [
             0.7777777777777778,
             "#fb9f3a"
            ],
            [
             0.8888888888888888,
             "#fdca26"
            ],
            [
             1,
             "#f0f921"
            ]
           ]
          },
          "colorway": [
           "#636efa",
           "#EF553B",
           "#00cc96",
           "#ab63fa",
           "#FFA15A",
           "#19d3f3",
           "#FF6692",
           "#B6E880",
           "#FF97FF",
           "#FECB52"
          ],
          "font": {
           "color": "#2a3f5f"
          },
          "geo": {
           "bgcolor": "white",
           "lakecolor": "white",
           "landcolor": "#E5ECF6",
           "showlakes": true,
           "showland": true,
           "subunitcolor": "white"
          },
          "hoverlabel": {
           "align": "left"
          },
          "hovermode": "closest",
          "mapbox": {
           "style": "light"
          },
          "paper_bgcolor": "white",
          "plot_bgcolor": "#E5ECF6",
          "polar": {
           "angularaxis": {
            "gridcolor": "white",
            "linecolor": "white",
            "ticks": ""
           },
           "bgcolor": "#E5ECF6",
           "radialaxis": {
            "gridcolor": "white",
            "linecolor": "white",
            "ticks": ""
           }
          },
          "scene": {
           "xaxis": {
            "backgroundcolor": "#E5ECF6",
            "gridcolor": "white",
            "gridwidth": 2,
            "linecolor": "white",
            "showbackground": true,
            "ticks": "",
            "zerolinecolor": "white"
           },
           "yaxis": {
            "backgroundcolor": "#E5ECF6",
            "gridcolor": "white",
            "gridwidth": 2,
            "linecolor": "white",
            "showbackground": true,
            "ticks": "",
            "zerolinecolor": "white"
           },
           "zaxis": {
            "backgroundcolor": "#E5ECF6",
            "gridcolor": "white",
            "gridwidth": 2,
            "linecolor": "white",
            "showbackground": true,
            "ticks": "",
            "zerolinecolor": "white"
           }
          },
          "shapedefaults": {
           "line": {
            "color": "#2a3f5f"
           }
          },
          "ternary": {
           "aaxis": {
            "gridcolor": "white",
            "linecolor": "white",
            "ticks": ""
           },
           "baxis": {
            "gridcolor": "white",
            "linecolor": "white",
            "ticks": ""
           },
           "bgcolor": "#E5ECF6",
           "caxis": {
            "gridcolor": "white",
            "linecolor": "white",
            "ticks": ""
           }
          },
          "title": {
           "x": 0.05
          },
          "xaxis": {
           "automargin": true,
           "gridcolor": "white",
           "linecolor": "white",
           "ticks": "",
           "title": {
            "standoff": 15
           },
           "zerolinecolor": "white",
           "zerolinewidth": 2
          },
          "yaxis": {
           "automargin": true,
           "gridcolor": "white",
           "linecolor": "white",
           "ticks": "",
           "title": {
            "standoff": 15
           },
           "zerolinecolor": "white",
           "zerolinewidth": 2
          }
         }
        },
        "title": {
         "text": "Mappa della densità del ritardo medio di arrivo per stazione in Lombardia"
        }
       }
      }
     },
     "metadata": {},
     "output_type": "display_data"
    }
   ],
   "source": [
    "px.colors.named_colorscales()\n",
    "color_continuous_scale = px.colors.sequential.Viridis\n",
    "fig = px.density_mapbox(\n",
    "    fermate_comuni_mean, \n",
    "    lat='POINT_Y', \n",
    "    lon='POINT_X', \n",
    "    z='avg_arrival_delay',\n",
    "    radius=35, \n",
    "    center=dict(lat=45.47061844608548, lon=9.181520912266429),\n",
    "    zoom=8,\n",
    "    mapbox_style='open-street-map',\n",
    "    height=800,\n",
    "    labels={'avg_arrival_delay': 'ritardo medio in minuti'}\n",
    ")\n",
    "fig.update_traces(hovertemplate='<b>%{customdata[0]}</b><br>Ritardo medio: %{z:.2f} minuti<extra></extra>', customdata=fermate_comuni_mean[['Stazione']].values)\n",
    "fig.update_layout(title='Mappa della densità del ritardo medio di arrivo per stazione in Lombardia')\n",
    "fig.show()\n"
   ]
  },
  {
   "cell_type": "markdown",
   "metadata": {},
   "source": [
    "## Mappa analoga per la frequenza delle stazioni"
   ]
  },
  {
   "cell_type": "code",
   "execution_count": 40,
   "metadata": {},
   "outputs": [
    {
     "data": {
      "application/vnd.plotly.v1+json": {
       "config": {
        "plotlyServerURL": "https://plot.ly"
       },
       "data": [
        {
         "coloraxis": "coloraxis",
         "customdata": [
          [
           "ARONA"
          ],
          [
           "BERGAMO"
          ],
          [
           "BESANA"
          ],
          [
           "BRESCIA"
          ],
          [
           "BUSTO ARSIZIO"
          ],
          [
           "CARNATE USMATE"
          ],
          [
           "CHIASSO"
          ],
          [
           "CHIAVENNA"
          ],
          [
           "CODOGNO"
          ],
          [
           "COLICO"
          ],
          [
           "COSTA MASNAGA"
          ],
          [
           "CREMONA"
          ],
          [
           "GALLARATE"
          ],
          [
           "LECCO"
          ],
          [
           "LIERNA"
          ],
          [
           "LODI"
          ],
          [
           "LUINO"
          ],
          [
           "MELEGNANO"
          ],
          [
           "MILANO CENTRALE"
          ],
          [
           "MILANO CERTOSA"
          ],
          [
           "MILANO GRECO PIRELLI"
          ],
          [
           "MILANO LAMBRATE"
          ],
          [
           "MILANO LANCETTI"
          ],
          [
           "MILANO NORD BOVISA"
          ],
          [
           "MILANO P.G. PASS."
          ],
          [
           "MILANO PORTA GENOVA"
          ],
          [
           "MILANO ROGOREDO"
          ],
          [
           "MILANO S. CRISTOFORO"
          ],
          [
           "MOLTENO"
          ],
          [
           "MONZA"
          ],
          [
           "MORTARA"
          ],
          [
           "Milano Nord Cadorna"
          ],
          [
           "NOVARA"
          ],
          [
           "PAVIA"
          ],
          [
           "PIACENZA"
          ],
          [
           "PIADENA"
          ],
          [
           "PONTE S.PIETRO"
          ],
          [
           "PORTO CERESIO"
          ],
          [
           "RHO"
          ],
          [
           "ROVATO"
          ],
          [
           "SEREGNO"
          ],
          [
           "SESTO CALENDE"
          ],
          [
           "SONDRIO"
          ],
          [
           "STRADELLA"
          ],
          [
           "TIRANO"
          ],
          [
           "TORREBERETTI"
          ],
          [
           "TORTONA"
          ],
          [
           "TREVIGLIO"
          ],
          [
           "VALENZA"
          ],
          [
           "VARESE"
          ],
          [
           "VOGHERA"
          ]
         ],
         "hovertemplate": "<b>%{customdata[0]}</b><br>Passeggeri saliti in 24 ore: %{z:.i} <extra></extra>",
         "lat": [
          4.575531295,
          45.690343725,
          45.702901578,
          4.553239364,
          45.616237821,
          45.653149706,
          4.583194478,
          46.321335044,
          45.154978635,
          46.138093311,
          45.763506456,
          45.143301262,
          45.659901549,
          45.856547373,
          45.961043911,
          45.309042271,
          45.996713632,
          45.356405865,
          45.486276592,
          45.507007737,
          45.512803065,
          45.485012046,
          45.493471578,
          4.550377781,
          45.484354097,
          45.453458231,
          4.543484983,
          45.442478529,
          45.781015442,
          45.577867268,
          45.252256076,
          45.468514231,
          4.545129662,
          45.188924433,
          4.505208441,
          45.127689005,
          45.699232686,
          45.903750516,
          45.523927896,
          45.552008269,
          45.646087713,
          45.726314213,
          46.167141595,
          45.079551322,
          46.215458161,
          45.060615837,
          4.490006568,
          45.515141265,
          4.502351446,
          45.816277257,
          44.997878065
         ],
         "lon": [
          8.559107617,
          9.675111057,
          0.928291338,
          10.212859202,
          8.865063882,
          9.375117342,
          9.031333374,
          0.940716091,
          9.701405698,
          9.375255676,
          0.928526064,
          10.017983096,
          8.79828248,
          0.939367574,
          9.303109353,
          9.497612624,
          8.737497575,
          9.319302,
          9.204867788,
          9.13393857,
          9.214496679,
          9.237361806,
          9.177354467,
          9.158986972,
          9.185954917,
          9.169330605,
          9.238727378,
          9.130288258,
          9.301712216,
          9.273281444,
          8.73168138,
          9.175179183,
          0.086249717,
          9.144713646,
          9.706305088,
          10.369987543,
          9.584359693,
          8.900389083,
          9.043583998,
          10.000952147,
          9.202885996,
          8.62816964,
          0.987296139,
          9.300895387,
          10.166987267,
          8.660466652,
          0.886181929,
          9.587945358,
          8.625966209,
          8.83313115,
          9.007971677
         ],
         "name": "",
         "radius": 35,
         "subplot": "mapbox",
         "type": "densitymapbox",
         "z": [
          1320,
          10170,
          560,
          11880,
          4930,
          4490,
          5640,
          500,
          2280,
          1550,
          360,
          2800,
          7530,
          9950,
          290,
          5710,
          270,
          2610,
          36170,
          5500,
          11980,
          16440,
          5130,
          21720,
          18980,
          6590,
          14460,
          2840,
          660,
          22140,
          2830,
          34680,
          2820,
          9410,
          1590,
          910,
          2480,
          750,
          6830,
          2640,
          6800,
          1230,
          1790,
          440,
          880,
          190,
          730,
          8210,
          400,
          5620,
          1630
         ]
        }
       ],
       "layout": {
        "coloraxis": {
         "colorbar": {
          "title": {
           "text": "passeggeri saliti in 24 ore"
          }
         },
         "colorscale": [
          [
           0,
           "#0d0887"
          ],
          [
           0.1111111111111111,
           "#46039f"
          ],
          [
           0.2222222222222222,
           "#7201a8"
          ],
          [
           0.3333333333333333,
           "#9c179e"
          ],
          [
           0.4444444444444444,
           "#bd3786"
          ],
          [
           0.5555555555555556,
           "#d8576b"
          ],
          [
           0.6666666666666666,
           "#ed7953"
          ],
          [
           0.7777777777777778,
           "#fb9f3a"
          ],
          [
           0.8888888888888888,
           "#fdca26"
          ],
          [
           1,
           "#f0f921"
          ]
         ]
        },
        "height": 800,
        "legend": {
         "tracegroupgap": 0
        },
        "mapbox": {
         "center": {
          "lat": 45.47061844608548,
          "lon": 9.181520912266429
         },
         "domain": {
          "x": [
           0,
           1
          ],
          "y": [
           0,
           1
          ]
         },
         "style": "open-street-map",
         "zoom": 8
        },
        "margin": {
         "t": 60
        },
        "template": {
         "data": {
          "bar": [
           {
            "error_x": {
             "color": "#2a3f5f"
            },
            "error_y": {
             "color": "#2a3f5f"
            },
            "marker": {
             "line": {
              "color": "#E5ECF6",
              "width": 0.5
             },
             "pattern": {
              "fillmode": "overlay",
              "size": 10,
              "solidity": 0.2
             }
            },
            "type": "bar"
           }
          ],
          "barpolar": [
           {
            "marker": {
             "line": {
              "color": "#E5ECF6",
              "width": 0.5
             },
             "pattern": {
              "fillmode": "overlay",
              "size": 10,
              "solidity": 0.2
             }
            },
            "type": "barpolar"
           }
          ],
          "carpet": [
           {
            "aaxis": {
             "endlinecolor": "#2a3f5f",
             "gridcolor": "white",
             "linecolor": "white",
             "minorgridcolor": "white",
             "startlinecolor": "#2a3f5f"
            },
            "baxis": {
             "endlinecolor": "#2a3f5f",
             "gridcolor": "white",
             "linecolor": "white",
             "minorgridcolor": "white",
             "startlinecolor": "#2a3f5f"
            },
            "type": "carpet"
           }
          ],
          "choropleth": [
           {
            "colorbar": {
             "outlinewidth": 0,
             "ticks": ""
            },
            "type": "choropleth"
           }
          ],
          "contour": [
           {
            "colorbar": {
             "outlinewidth": 0,
             "ticks": ""
            },
            "colorscale": [
             [
              0,
              "#0d0887"
             ],
             [
              0.1111111111111111,
              "#46039f"
             ],
             [
              0.2222222222222222,
              "#7201a8"
             ],
             [
              0.3333333333333333,
              "#9c179e"
             ],
             [
              0.4444444444444444,
              "#bd3786"
             ],
             [
              0.5555555555555556,
              "#d8576b"
             ],
             [
              0.6666666666666666,
              "#ed7953"
             ],
             [
              0.7777777777777778,
              "#fb9f3a"
             ],
             [
              0.8888888888888888,
              "#fdca26"
             ],
             [
              1,
              "#f0f921"
             ]
            ],
            "type": "contour"
           }
          ],
          "contourcarpet": [
           {
            "colorbar": {
             "outlinewidth": 0,
             "ticks": ""
            },
            "type": "contourcarpet"
           }
          ],
          "heatmap": [
           {
            "colorbar": {
             "outlinewidth": 0,
             "ticks": ""
            },
            "colorscale": [
             [
              0,
              "#0d0887"
             ],
             [
              0.1111111111111111,
              "#46039f"
             ],
             [
              0.2222222222222222,
              "#7201a8"
             ],
             [
              0.3333333333333333,
              "#9c179e"
             ],
             [
              0.4444444444444444,
              "#bd3786"
             ],
             [
              0.5555555555555556,
              "#d8576b"
             ],
             [
              0.6666666666666666,
              "#ed7953"
             ],
             [
              0.7777777777777778,
              "#fb9f3a"
             ],
             [
              0.8888888888888888,
              "#fdca26"
             ],
             [
              1,
              "#f0f921"
             ]
            ],
            "type": "heatmap"
           }
          ],
          "heatmapgl": [
           {
            "colorbar": {
             "outlinewidth": 0,
             "ticks": ""
            },
            "colorscale": [
             [
              0,
              "#0d0887"
             ],
             [
              0.1111111111111111,
              "#46039f"
             ],
             [
              0.2222222222222222,
              "#7201a8"
             ],
             [
              0.3333333333333333,
              "#9c179e"
             ],
             [
              0.4444444444444444,
              "#bd3786"
             ],
             [
              0.5555555555555556,
              "#d8576b"
             ],
             [
              0.6666666666666666,
              "#ed7953"
             ],
             [
              0.7777777777777778,
              "#fb9f3a"
             ],
             [
              0.8888888888888888,
              "#fdca26"
             ],
             [
              1,
              "#f0f921"
             ]
            ],
            "type": "heatmapgl"
           }
          ],
          "histogram": [
           {
            "marker": {
             "pattern": {
              "fillmode": "overlay",
              "size": 10,
              "solidity": 0.2
             }
            },
            "type": "histogram"
           }
          ],
          "histogram2d": [
           {
            "colorbar": {
             "outlinewidth": 0,
             "ticks": ""
            },
            "colorscale": [
             [
              0,
              "#0d0887"
             ],
             [
              0.1111111111111111,
              "#46039f"
             ],
             [
              0.2222222222222222,
              "#7201a8"
             ],
             [
              0.3333333333333333,
              "#9c179e"
             ],
             [
              0.4444444444444444,
              "#bd3786"
             ],
             [
              0.5555555555555556,
              "#d8576b"
             ],
             [
              0.6666666666666666,
              "#ed7953"
             ],
             [
              0.7777777777777778,
              "#fb9f3a"
             ],
             [
              0.8888888888888888,
              "#fdca26"
             ],
             [
              1,
              "#f0f921"
             ]
            ],
            "type": "histogram2d"
           }
          ],
          "histogram2dcontour": [
           {
            "colorbar": {
             "outlinewidth": 0,
             "ticks": ""
            },
            "colorscale": [
             [
              0,
              "#0d0887"
             ],
             [
              0.1111111111111111,
              "#46039f"
             ],
             [
              0.2222222222222222,
              "#7201a8"
             ],
             [
              0.3333333333333333,
              "#9c179e"
             ],
             [
              0.4444444444444444,
              "#bd3786"
             ],
             [
              0.5555555555555556,
              "#d8576b"
             ],
             [
              0.6666666666666666,
              "#ed7953"
             ],
             [
              0.7777777777777778,
              "#fb9f3a"
             ],
             [
              0.8888888888888888,
              "#fdca26"
             ],
             [
              1,
              "#f0f921"
             ]
            ],
            "type": "histogram2dcontour"
           }
          ],
          "mesh3d": [
           {
            "colorbar": {
             "outlinewidth": 0,
             "ticks": ""
            },
            "type": "mesh3d"
           }
          ],
          "parcoords": [
           {
            "line": {
             "colorbar": {
              "outlinewidth": 0,
              "ticks": ""
             }
            },
            "type": "parcoords"
           }
          ],
          "pie": [
           {
            "automargin": true,
            "type": "pie"
           }
          ],
          "scatter": [
           {
            "fillpattern": {
             "fillmode": "overlay",
             "size": 10,
             "solidity": 0.2
            },
            "type": "scatter"
           }
          ],
          "scatter3d": [
           {
            "line": {
             "colorbar": {
              "outlinewidth": 0,
              "ticks": ""
             }
            },
            "marker": {
             "colorbar": {
              "outlinewidth": 0,
              "ticks": ""
             }
            },
            "type": "scatter3d"
           }
          ],
          "scattercarpet": [
           {
            "marker": {
             "colorbar": {
              "outlinewidth": 0,
              "ticks": ""
             }
            },
            "type": "scattercarpet"
           }
          ],
          "scattergeo": [
           {
            "marker": {
             "colorbar": {
              "outlinewidth": 0,
              "ticks": ""
             }
            },
            "type": "scattergeo"
           }
          ],
          "scattergl": [
           {
            "marker": {
             "colorbar": {
              "outlinewidth": 0,
              "ticks": ""
             }
            },
            "type": "scattergl"
           }
          ],
          "scattermapbox": [
           {
            "marker": {
             "colorbar": {
              "outlinewidth": 0,
              "ticks": ""
             }
            },
            "type": "scattermapbox"
           }
          ],
          "scatterpolar": [
           {
            "marker": {
             "colorbar": {
              "outlinewidth": 0,
              "ticks": ""
             }
            },
            "type": "scatterpolar"
           }
          ],
          "scatterpolargl": [
           {
            "marker": {
             "colorbar": {
              "outlinewidth": 0,
              "ticks": ""
             }
            },
            "type": "scatterpolargl"
           }
          ],
          "scatterternary": [
           {
            "marker": {
             "colorbar": {
              "outlinewidth": 0,
              "ticks": ""
             }
            },
            "type": "scatterternary"
           }
          ],
          "surface": [
           {
            "colorbar": {
             "outlinewidth": 0,
             "ticks": ""
            },
            "colorscale": [
             [
              0,
              "#0d0887"
             ],
             [
              0.1111111111111111,
              "#46039f"
             ],
             [
              0.2222222222222222,
              "#7201a8"
             ],
             [
              0.3333333333333333,
              "#9c179e"
             ],
             [
              0.4444444444444444,
              "#bd3786"
             ],
             [
              0.5555555555555556,
              "#d8576b"
             ],
             [
              0.6666666666666666,
              "#ed7953"
             ],
             [
              0.7777777777777778,
              "#fb9f3a"
             ],
             [
              0.8888888888888888,
              "#fdca26"
             ],
             [
              1,
              "#f0f921"
             ]
            ],
            "type": "surface"
           }
          ],
          "table": [
           {
            "cells": {
             "fill": {
              "color": "#EBF0F8"
             },
             "line": {
              "color": "white"
             }
            },
            "header": {
             "fill": {
              "color": "#C8D4E3"
             },
             "line": {
              "color": "white"
             }
            },
            "type": "table"
           }
          ]
         },
         "layout": {
          "annotationdefaults": {
           "arrowcolor": "#2a3f5f",
           "arrowhead": 0,
           "arrowwidth": 1
          },
          "autotypenumbers": "strict",
          "coloraxis": {
           "colorbar": {
            "outlinewidth": 0,
            "ticks": ""
           }
          },
          "colorscale": {
           "diverging": [
            [
             0,
             "#8e0152"
            ],
            [
             0.1,
             "#c51b7d"
            ],
            [
             0.2,
             "#de77ae"
            ],
            [
             0.3,
             "#f1b6da"
            ],
            [
             0.4,
             "#fde0ef"
            ],
            [
             0.5,
             "#f7f7f7"
            ],
            [
             0.6,
             "#e6f5d0"
            ],
            [
             0.7,
             "#b8e186"
            ],
            [
             0.8,
             "#7fbc41"
            ],
            [
             0.9,
             "#4d9221"
            ],
            [
             1,
             "#276419"
            ]
           ],
           "sequential": [
            [
             0,
             "#0d0887"
            ],
            [
             0.1111111111111111,
             "#46039f"
            ],
            [
             0.2222222222222222,
             "#7201a8"
            ],
            [
             0.3333333333333333,
             "#9c179e"
            ],
            [
             0.4444444444444444,
             "#bd3786"
            ],
            [
             0.5555555555555556,
             "#d8576b"
            ],
            [
             0.6666666666666666,
             "#ed7953"
            ],
            [
             0.7777777777777778,
             "#fb9f3a"
            ],
            [
             0.8888888888888888,
             "#fdca26"
            ],
            [
             1,
             "#f0f921"
            ]
           ],
           "sequentialminus": [
            [
             0,
             "#0d0887"
            ],
            [
             0.1111111111111111,
             "#46039f"
            ],
            [
             0.2222222222222222,
             "#7201a8"
            ],
            [
             0.3333333333333333,
             "#9c179e"
            ],
            [
             0.4444444444444444,
             "#bd3786"
            ],
            [
             0.5555555555555556,
             "#d8576b"
            ],
            [
             0.6666666666666666,
             "#ed7953"
            ],
            [
             0.7777777777777778,
             "#fb9f3a"
            ],
            [
             0.8888888888888888,
             "#fdca26"
            ],
            [
             1,
             "#f0f921"
            ]
           ]
          },
          "colorway": [
           "#636efa",
           "#EF553B",
           "#00cc96",
           "#ab63fa",
           "#FFA15A",
           "#19d3f3",
           "#FF6692",
           "#B6E880",
           "#FF97FF",
           "#FECB52"
          ],
          "font": {
           "color": "#2a3f5f"
          },
          "geo": {
           "bgcolor": "white",
           "lakecolor": "white",
           "landcolor": "#E5ECF6",
           "showlakes": true,
           "showland": true,
           "subunitcolor": "white"
          },
          "hoverlabel": {
           "align": "left"
          },
          "hovermode": "closest",
          "mapbox": {
           "style": "light"
          },
          "paper_bgcolor": "white",
          "plot_bgcolor": "#E5ECF6",
          "polar": {
           "angularaxis": {
            "gridcolor": "white",
            "linecolor": "white",
            "ticks": ""
           },
           "bgcolor": "#E5ECF6",
           "radialaxis": {
            "gridcolor": "white",
            "linecolor": "white",
            "ticks": ""
           }
          },
          "scene": {
           "xaxis": {
            "backgroundcolor": "#E5ECF6",
            "gridcolor": "white",
            "gridwidth": 2,
            "linecolor": "white",
            "showbackground": true,
            "ticks": "",
            "zerolinecolor": "white"
           },
           "yaxis": {
            "backgroundcolor": "#E5ECF6",
            "gridcolor": "white",
            "gridwidth": 2,
            "linecolor": "white",
            "showbackground": true,
            "ticks": "",
            "zerolinecolor": "white"
           },
           "zaxis": {
            "backgroundcolor": "#E5ECF6",
            "gridcolor": "white",
            "gridwidth": 2,
            "linecolor": "white",
            "showbackground": true,
            "ticks": "",
            "zerolinecolor": "white"
           }
          },
          "shapedefaults": {
           "line": {
            "color": "#2a3f5f"
           }
          },
          "ternary": {
           "aaxis": {
            "gridcolor": "white",
            "linecolor": "white",
            "ticks": ""
           },
           "baxis": {
            "gridcolor": "white",
            "linecolor": "white",
            "ticks": ""
           },
           "bgcolor": "#E5ECF6",
           "caxis": {
            "gridcolor": "white",
            "linecolor": "white",
            "ticks": ""
           }
          },
          "title": {
           "x": 0.05
          },
          "xaxis": {
           "automargin": true,
           "gridcolor": "white",
           "linecolor": "white",
           "ticks": "",
           "title": {
            "standoff": 15
           },
           "zerolinecolor": "white",
           "zerolinewidth": 2
          },
          "yaxis": {
           "automargin": true,
           "gridcolor": "white",
           "linecolor": "white",
           "ticks": "",
           "title": {
            "standoff": 15
           },
           "zerolinecolor": "white",
           "zerolinewidth": 2
          }
         }
        },
        "title": {
         "text": "Frequenza treni per stazione in Lombardia"
        }
       }
      }
     },
     "metadata": {},
     "output_type": "display_data"
    }
   ],
   "source": [
    "px.colors.named_colorscales()\n",
    "color_continuous_scale=px.colors.sequential.Viridis\n",
    "fig = px.density_mapbox(\n",
    "    fermate_comuni_mean, \n",
    "    lat='POINT_Y', \n",
    "    lon='POINT_X', \n",
    "    z='Saliti24H',\n",
    "    radius=35, \n",
    "    center=dict(lat=45.47061844608548, lon=9.181520912266429),\n",
    "    zoom=8,\n",
    "    mapbox_style='open-street-map',\n",
    "    height=800,\n",
    "    labels={'Saliti24H': 'passeggeri saliti in 24 ore'}\n",
    "\n",
    ")\n",
    "fig.update_traces(hovertemplate='<b>%{customdata[0]}</b><br>Passeggeri saliti in 24 ore: %{z:.i} <extra></extra>', customdata=fermate_comuni_mean[['Stazione']].values)\n",
    "fig.update_layout(title='Frequenza treni per stazione in Lombardia')\n",
    "fig.show()\n"
   ]
  }
 ],
 "metadata": {
  "kernelspec": {
   "display_name": ".venv",
   "language": "python",
   "name": "python3"
  },
  "language_info": {
   "codemirror_mode": {
    "name": "ipython",
    "version": 3
   },
   "file_extension": ".py",
   "mimetype": "text/x-python",
   "name": "python",
   "nbconvert_exporter": "python",
   "pygments_lexer": "ipython3",
   "version": "3.13.1"
  }
 },
 "nbformat": 4,
 "nbformat_minor": 2
}
