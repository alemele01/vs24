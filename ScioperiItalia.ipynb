{
 "cells": [
  {
   "cell_type": "code",
   "execution_count": 1,
   "metadata": {},
   "outputs": [],
   "source": [
    "import numpy as np\n",
    "import matplotlib.pyplot as plt\n",
    "import random as rnd\n",
    "import scipy.special as sc\n",
    "import pandas as pd\n",
    "import statsmodels.api as sm\n",
    "import scipy.stats as st\n",
    "import math\n",
    "import csv"
   ]
  },
  {
   "cell_type": "code",
   "execution_count": 2,
   "metadata": {},
   "outputs": [
    {
     "data": {
      "text/html": [
       "<div>\n",
       "<style scoped>\n",
       "    .dataframe tbody tr th:only-of-type {\n",
       "        vertical-align: middle;\n",
       "    }\n",
       "\n",
       "    .dataframe tbody tr th {\n",
       "        vertical-align: top;\n",
       "    }\n",
       "\n",
       "    .dataframe thead th {\n",
       "        text-align: right;\n",
       "    }\n",
       "</style>\n",
       "<table border=\"1\" class=\"dataframe\">\n",
       "  <thead>\n",
       "    <tr style=\"text-align: right;\">\n",
       "      <th></th>\n",
       "      <th>dataInizio</th>\n",
       "      <th>dataFine</th>\n",
       "      <th>sindacato</th>\n",
       "      <th>settore</th>\n",
       "      <th>categoria</th>\n",
       "      <th>modalita</th>\n",
       "      <th>rilevanza</th>\n",
       "      <th>dataProclamazione</th>\n",
       "      <th>dataRicezione</th>\n",
       "      <th>nome_regione</th>\n",
       "      <th>nome_provincia</th>\n",
       "      <th>note</th>\n",
       "    </tr>\n",
       "  </thead>\n",
       "  <tbody>\n",
       "    <tr>\n",
       "      <th>0</th>\n",
       "      <td>2014-01-08</td>\n",
       "      <td>2014-01-08</td>\n",
       "      <td>ANPCAT</td>\n",
       "      <td>Aereo</td>\n",
       "      <td>PERSONALE SOC. ENAV</td>\n",
       "      <td>4 ORE: DALLE 13.00 ALLE 17.00</td>\n",
       "      <td>Nazionale</td>\n",
       "      <td>2013-12-24</td>\n",
       "      <td>2013-12-24 17:07:00</td>\n",
       "      <td>Italia</td>\n",
       "      <td>Tutte</td>\n",
       "      <td>ESCLUSI VOLI DELLA SOC. EASYJET</td>\n",
       "    </tr>\n",
       "    <tr>\n",
       "      <th>1</th>\n",
       "      <td>2014-01-09</td>\n",
       "      <td>2014-01-09</td>\n",
       "      <td>OSR USB LAVORO PRIVATO</td>\n",
       "      <td>Aereo</td>\n",
       "      <td>PERSONALE SOCC. SEA  E SEA HANDLING DI MILANO ...</td>\n",
       "      <td>4 ORE: DALLE 10.00 ALLE 14.00</td>\n",
       "      <td>Nazionale</td>\n",
       "      <td>2013-12-30</td>\n",
       "      <td>2013-12-30 09:58:00</td>\n",
       "      <td>Italia</td>\n",
       "      <td>Tutte</td>\n",
       "      <td>NaN</td>\n",
       "    </tr>\n",
       "    <tr>\n",
       "      <th>2</th>\n",
       "      <td>2014-01-09</td>\n",
       "      <td>2014-01-09</td>\n",
       "      <td>OSR FEDERMAR-CISAL</td>\n",
       "      <td>Marittimo</td>\n",
       "      <td>PERSONALE SOC. SIREMAR - COMPAGNIA DELLE ISOLE...</td>\n",
       "      <td>24 ORE CON VARIE MODALITA'</td>\n",
       "      <td>Regionale</td>\n",
       "      <td>2013-12-29</td>\n",
       "      <td>2013-12-29 23:37:00</td>\n",
       "      <td>Sicilia</td>\n",
       "      <td>Tutte</td>\n",
       "      <td>NaN</td>\n",
       "    </tr>\n",
       "    <tr>\n",
       "      <th>3</th>\n",
       "      <td>2014-01-10</td>\n",
       "      <td>2014-01-10</td>\n",
       "      <td>OSR USB LAVORO PRIVATO</td>\n",
       "      <td>Ferroviario</td>\n",
       "      <td>PERS. MOBILE SOC. TRENITALIA DIV. PASSEGGERI N...</td>\n",
       "      <td>1 ORA: DALLE 09.00 ALLE 10.00 - OMC 10 MIN.:9....</td>\n",
       "      <td>Regionale</td>\n",
       "      <td>2013-12-31</td>\n",
       "      <td>2013-12-31 10:58:00</td>\n",
       "      <td>Emilia-Romagna</td>\n",
       "      <td>Tutte</td>\n",
       "      <td>NaN</td>\n",
       "    </tr>\n",
       "    <tr>\n",
       "      <th>4</th>\n",
       "      <td>2014-01-10</td>\n",
       "      <td>2014-01-10</td>\n",
       "      <td>OSR FILT-CGIL/FIT-CISL/UILT-UIL/UGL/FAST FERRO...</td>\n",
       "      <td>Appalti ferroviari</td>\n",
       "      <td>PERSONALE APPALTI FS SOC. IPRAMS DEGLI IMPIANT...</td>\n",
       "      <td>4 ORE: DALLE 9.36 ALLE 13.36</td>\n",
       "      <td>Regionale</td>\n",
       "      <td>2013-12-16</td>\n",
       "      <td>2013-12-17 12:11:00</td>\n",
       "      <td>Umbria</td>\n",
       "      <td>Tutte</td>\n",
       "      <td>NaN</td>\n",
       "    </tr>\n",
       "  </tbody>\n",
       "</table>\n",
       "</div>"
      ],
      "text/plain": [
       "   dataInizio    dataFine                                          sindacato  \\\n",
       "0  2014-01-08  2014-01-08                                             ANPCAT   \n",
       "1  2014-01-09  2014-01-09                             OSR USB LAVORO PRIVATO   \n",
       "2  2014-01-09  2014-01-09                                 OSR FEDERMAR-CISAL   \n",
       "3  2014-01-10  2014-01-10                             OSR USB LAVORO PRIVATO   \n",
       "4  2014-01-10  2014-01-10  OSR FILT-CGIL/FIT-CISL/UILT-UIL/UGL/FAST FERRO...   \n",
       "\n",
       "              settore                                          categoria  \\\n",
       "0               Aereo                                PERSONALE SOC. ENAV   \n",
       "1               Aereo  PERSONALE SOCC. SEA  E SEA HANDLING DI MILANO ...   \n",
       "2           Marittimo  PERSONALE SOC. SIREMAR - COMPAGNIA DELLE ISOLE...   \n",
       "3         Ferroviario  PERS. MOBILE SOC. TRENITALIA DIV. PASSEGGERI N...   \n",
       "4  Appalti ferroviari  PERSONALE APPALTI FS SOC. IPRAMS DEGLI IMPIANT...   \n",
       "\n",
       "                                            modalita  rilevanza  \\\n",
       "0                      4 ORE: DALLE 13.00 ALLE 17.00  Nazionale   \n",
       "1                      4 ORE: DALLE 10.00 ALLE 14.00  Nazionale   \n",
       "2                         24 ORE CON VARIE MODALITA'  Regionale   \n",
       "3  1 ORA: DALLE 09.00 ALLE 10.00 - OMC 10 MIN.:9....  Regionale   \n",
       "4                       4 ORE: DALLE 9.36 ALLE 13.36  Regionale   \n",
       "\n",
       "  dataProclamazione        dataRicezione    nome_regione nome_provincia  \\\n",
       "0        2013-12-24  2013-12-24 17:07:00          Italia          Tutte   \n",
       "1        2013-12-30  2013-12-30 09:58:00          Italia          Tutte   \n",
       "2        2013-12-29  2013-12-29 23:37:00         Sicilia          Tutte   \n",
       "3        2013-12-31  2013-12-31 10:58:00  Emilia-Romagna          Tutte   \n",
       "4        2013-12-16  2013-12-17 12:11:00          Umbria          Tutte   \n",
       "\n",
       "                              note  \n",
       "0  ESCLUSI VOLI DELLA SOC. EASYJET  \n",
       "1                              NaN  \n",
       "2                              NaN  \n",
       "3                              NaN  \n",
       "4                              NaN  "
      ]
     },
     "execution_count": 2,
     "metadata": {},
     "output_type": "execute_result"
    }
   ],
   "source": [
    "#opendata, ministero delle infrastrutture e trasporti\n",
    "scioperi=pd.read_csv('dataset/ScioperiItalia.csv',sep=',',decimal='.')\n",
    "scioperi.head()"
   ]
  },
  {
   "cell_type": "code",
   "execution_count": 3,
   "metadata": {},
   "outputs": [],
   "source": [
    "def converti_ad_ore(modalita):\n",
    "   if 'ORE'  in modalita:\n",
    "      return modalita.split('ORE')[0] \n",
    "   elif 'ORA'  in modalita:\n",
    "      return modalita.split('ORA')[0]\n",
    "   elif 'MIN' in modalita:\n",
    "      return 1\n",
    "   elif 'INTERA GIORNATA' in modalita or 'INTERA PRESTAZIONE' in modalita:\n",
    "      return 24\n",
    "   elif 'INTERO TURNO' in modalita:\n",
    "      return 8\n",
    "   elif 'MET' in modalita or 'MEZZO TURNO' in modalita:\n",
    "      return 4\n",
    "   else:\n",
    "      return 0"
   ]
  },
  {
   "cell_type": "code",
   "execution_count": 4,
   "metadata": {},
   "outputs": [
    {
     "data": {
      "text/html": [
       "<div>\n",
       "<style scoped>\n",
       "    .dataframe tbody tr th:only-of-type {\n",
       "        vertical-align: middle;\n",
       "    }\n",
       "\n",
       "    .dataframe tbody tr th {\n",
       "        vertical-align: top;\n",
       "    }\n",
       "\n",
       "    .dataframe thead th {\n",
       "        text-align: right;\n",
       "    }\n",
       "</style>\n",
       "<table border=\"1\" class=\"dataframe\">\n",
       "  <thead>\n",
       "    <tr style=\"text-align: right;\">\n",
       "      <th></th>\n",
       "      <th>modalita</th>\n",
       "      <th>durata_ore</th>\n",
       "    </tr>\n",
       "  </thead>\n",
       "  <tbody>\n",
       "    <tr>\n",
       "      <th>0</th>\n",
       "      <td>4 ORE: DALLE 13.00 ALLE 17.00</td>\n",
       "      <td>4</td>\n",
       "    </tr>\n",
       "    <tr>\n",
       "      <th>1</th>\n",
       "      <td>4 ORE: DALLE 10.00 ALLE 14.00</td>\n",
       "      <td>4</td>\n",
       "    </tr>\n",
       "    <tr>\n",
       "      <th>2</th>\n",
       "      <td>24 ORE CON VARIE MODALITA'</td>\n",
       "      <td>24</td>\n",
       "    </tr>\n",
       "    <tr>\n",
       "      <th>3</th>\n",
       "      <td>1 ORA: DALLE 09.00 ALLE 10.00 - OMC 10 MIN.:9....</td>\n",
       "      <td>1</td>\n",
       "    </tr>\n",
       "    <tr>\n",
       "      <th>4</th>\n",
       "      <td>4 ORE: DALLE 9.36 ALLE 13.36</td>\n",
       "      <td>4</td>\n",
       "    </tr>\n",
       "    <tr>\n",
       "      <th>...</th>\n",
       "      <td>...</td>\n",
       "      <td>...</td>\n",
       "    </tr>\n",
       "    <tr>\n",
       "      <th>4690</th>\n",
       "      <td>24 ORE</td>\n",
       "      <td>24</td>\n",
       "    </tr>\n",
       "    <tr>\n",
       "      <th>4691</th>\n",
       "      <td>24 ORE</td>\n",
       "      <td>24</td>\n",
       "    </tr>\n",
       "    <tr>\n",
       "      <th>4692</th>\n",
       "      <td>24 ORE</td>\n",
       "      <td>24</td>\n",
       "    </tr>\n",
       "    <tr>\n",
       "      <th>4693</th>\n",
       "      <td>4 ORE: DALLE 13.00 ALLE 17.00</td>\n",
       "      <td>4</td>\n",
       "    </tr>\n",
       "    <tr>\n",
       "      <th>4694</th>\n",
       "      <td>24 ORE: DALLE 00.01 ALLE 24.00</td>\n",
       "      <td>24</td>\n",
       "    </tr>\n",
       "  </tbody>\n",
       "</table>\n",
       "<p>4695 rows × 2 columns</p>\n",
       "</div>"
      ],
      "text/plain": [
       "                                               modalita durata_ore\n",
       "0                         4 ORE: DALLE 13.00 ALLE 17.00         4 \n",
       "1                         4 ORE: DALLE 10.00 ALLE 14.00         4 \n",
       "2                            24 ORE CON VARIE MODALITA'        24 \n",
       "3     1 ORA: DALLE 09.00 ALLE 10.00 - OMC 10 MIN.:9....         1 \n",
       "4                          4 ORE: DALLE 9.36 ALLE 13.36         4 \n",
       "...                                                 ...        ...\n",
       "4690                                             24 ORE        24 \n",
       "4691                                             24 ORE        24 \n",
       "4692                                             24 ORE        24 \n",
       "4693                      4 ORE: DALLE 13.00 ALLE 17.00         4 \n",
       "4694                     24 ORE: DALLE 00.01 ALLE 24.00        24 \n",
       "\n",
       "[4695 rows x 2 columns]"
      ]
     },
     "execution_count": 4,
     "metadata": {},
     "output_type": "execute_result"
    }
   ],
   "source": [
    "scioperi['durata_ore'] = scioperi['modalita'].apply(converti_ad_ore)\n",
    "scioperi[['modalita','durata_ore']]"
   ]
  },
  {
   "cell_type": "code",
   "execution_count": null,
   "metadata": {},
   "outputs": [
    {
     "data": {
      "text/html": [
       "<div>\n",
       "<style scoped>\n",
       "    .dataframe tbody tr th:only-of-type {\n",
       "        vertical-align: middle;\n",
       "    }\n",
       "\n",
       "    .dataframe tbody tr th {\n",
       "        vertical-align: top;\n",
       "    }\n",
       "\n",
       "    .dataframe thead th {\n",
       "        text-align: right;\n",
       "    }\n",
       "</style>\n",
       "<table border=\"1\" class=\"dataframe\">\n",
       "  <thead>\n",
       "    <tr style=\"text-align: right;\">\n",
       "      <th></th>\n",
       "      <th>modalita</th>\n",
       "      <th>durata_ore</th>\n",
       "    </tr>\n",
       "  </thead>\n",
       "  <tbody>\n",
       "    <tr>\n",
       "      <th>0</th>\n",
       "      <td>4 ORE: DALLE 13.00 ALLE 17.00</td>\n",
       "      <td>4.0</td>\n",
       "    </tr>\n",
       "    <tr>\n",
       "      <th>1</th>\n",
       "      <td>4 ORE: DALLE 10.00 ALLE 14.00</td>\n",
       "      <td>4.0</td>\n",
       "    </tr>\n",
       "    <tr>\n",
       "      <th>2</th>\n",
       "      <td>24 ORE CON VARIE MODALITA'</td>\n",
       "      <td>24.0</td>\n",
       "    </tr>\n",
       "    <tr>\n",
       "      <th>3</th>\n",
       "      <td>1 ORA: DALLE 09.00 ALLE 10.00 - OMC 10 MIN.:9....</td>\n",
       "      <td>1.0</td>\n",
       "    </tr>\n",
       "    <tr>\n",
       "      <th>4</th>\n",
       "      <td>4 ORE: DALLE 9.36 ALLE 13.36</td>\n",
       "      <td>4.0</td>\n",
       "    </tr>\n",
       "    <tr>\n",
       "      <th>...</th>\n",
       "      <td>...</td>\n",
       "      <td>...</td>\n",
       "    </tr>\n",
       "    <tr>\n",
       "      <th>4690</th>\n",
       "      <td>24 ORE</td>\n",
       "      <td>24.0</td>\n",
       "    </tr>\n",
       "    <tr>\n",
       "      <th>4691</th>\n",
       "      <td>24 ORE</td>\n",
       "      <td>24.0</td>\n",
       "    </tr>\n",
       "    <tr>\n",
       "      <th>4692</th>\n",
       "      <td>24 ORE</td>\n",
       "      <td>24.0</td>\n",
       "    </tr>\n",
       "    <tr>\n",
       "      <th>4693</th>\n",
       "      <td>4 ORE: DALLE 13.00 ALLE 17.00</td>\n",
       "      <td>4.0</td>\n",
       "    </tr>\n",
       "    <tr>\n",
       "      <th>4694</th>\n",
       "      <td>24 ORE: DALLE 00.01 ALLE 24.00</td>\n",
       "      <td>24.0</td>\n",
       "    </tr>\n",
       "  </tbody>\n",
       "</table>\n",
       "<p>4528 rows × 2 columns</p>\n",
       "</div>"
      ],
      "text/plain": [
       "                                               modalita  durata_ore\n",
       "0                         4 ORE: DALLE 13.00 ALLE 17.00         4.0\n",
       "1                         4 ORE: DALLE 10.00 ALLE 14.00         4.0\n",
       "2                            24 ORE CON VARIE MODALITA'        24.0\n",
       "3     1 ORA: DALLE 09.00 ALLE 10.00 - OMC 10 MIN.:9....         1.0\n",
       "4                          4 ORE: DALLE 9.36 ALLE 13.36         4.0\n",
       "...                                                 ...         ...\n",
       "4690                                             24 ORE        24.0\n",
       "4691                                             24 ORE        24.0\n",
       "4692                                             24 ORE        24.0\n",
       "4693                      4 ORE: DALLE 13.00 ALLE 17.00         4.0\n",
       "4694                     24 ORE: DALLE 00.01 ALLE 24.00        24.0\n",
       "\n",
       "[4528 rows x 2 columns]"
      ]
     },
     "execution_count": 5,
     "metadata": {},
     "output_type": "execute_result"
    }
   ],
   "source": [
    "scioperi['durata_ore'] = pd.to_numeric(scioperi['durata_ore'], errors='coerce')\n",
    "\n",
    "scioperi_ore_clean = scioperi.dropna(subset=['durata_ore'])\n",
    "\n",
    "scioperi_ore_clean[['modalita','durata_ore']]"
   ]
  },
  {
   "cell_type": "code",
   "execution_count": 6,
   "metadata": {},
   "outputs": [
    {
     "data": {
      "text/plain": [
       "array([  4.,  24.,   1.,   2.,   8.,  14., 120.,  21.,  48.,  12.,  20.,\n",
       "        72.,  15.,   0.,   6.,  96.,  23.,  18.,   3.,  22.,  36.,  16.,\n",
       "         9.,   5.,  10.,   7., 144.,  11., 192.,  50., 146.])"
      ]
     },
     "execution_count": 6,
     "metadata": {},
     "output_type": "execute_result"
    }
   ],
   "source": [
    "scioperi_ore_clean['durata_ore'].unique()"
   ]
  },
  {
   "cell_type": "code",
   "execution_count": null,
   "metadata": {},
   "outputs": [
    {
     "data": {
      "image/png": "[encoded data removed]",
      "text/plain": [
       "<Figure size 640x480 with 1 Axes>"
      ]
     },
     "metadata": {},
     "output_type": "display_data"
    }
   ],
   "source": [
    "frequenza_ore_di_sciopero = scioperi_ore_clean['durata_ore'].value_counts()\n",
    "\n",
    "frequenza_ore_di_sciopero_ordinata = frequenza_ore_di_sciopero.sort_index()\n",
    "\n",
    "frequenza_ore_di_sciopero_ordinata.plot(kind='bar', color='skyblue', edgecolor='black')\n",
    "plt.title('Frequenza delle Durate degli Scioperi')\n",
    "plt.xlabel('Durata dello Sciopero (ore)')\n",
    "plt.ylabel('Frequenza')\n",
    "plt.xticks(rotation=45)\n",
    "plt.show()"
   ]
  },
  {
   "cell_type": "code",
   "execution_count": 8,
   "metadata": {},
   "outputs": [
    {
     "name": "stderr",
     "output_type": "stream",
     "text": [
      "C:\\Users\\aleme\\AppData\\Local\\Temp\\ipykernel_4032\\2625114254.py:2: SettingWithCopyWarning: \n",
      "A value is trying to be set on a copy of a slice from a DataFrame.\n",
      "Try using .loc[row_indexer,col_indexer] = value instead\n",
      "\n",
      "See the caveats in the documentation: https://pandas.pydata.org/pandas-docs/stable/user_guide/indexing.html#returning-a-view-versus-a-copy\n",
      "  scioperi_ferroviari['dataInizio'] = pd.to_datetime(scioperi_ferroviari['dataInizio'])\n"
     ]
    }
   ],
   "source": [
    "scioperi_ferroviari=scioperi[(scioperi['settore'] == 'Ferroviario')]\n",
    "scioperi_ferroviari['dataInizio'] = pd.to_datetime(scioperi_ferroviari['dataInizio'])\n"
   ]
  },
  {
   "cell_type": "code",
   "execution_count": 9,
   "metadata": {},
   "outputs": [
    {
     "data": {
      "image/png": "[encoded data removed]",
      "text/plain": [
       "<Figure size 640x480 with 1 Axes>"
      ]
     },
     "metadata": {},
     "output_type": "display_data"
    }
   ],
   "source": [
    "frequenza_giorni_sciopero = scioperi_ferroviari['dataInizio'].dt.day_name().value_counts()\n",
    "giorni_ordinati = ['Monday', 'Tuesday', 'Wednesday', 'Thursday', 'Friday', 'Saturday', 'Sunday']\n",
    "frequenza_giorni_sciopero = frequenza_giorni_sciopero.reindex(giorni_ordinati)\n",
    "\n",
    "frequenza_giorni_sciopero.plot(kind='bar',  edgecolor='black')\n",
    "plt.title('Numero di scioperi effettuati per ogni giorno della settimana')\n",
    "plt.ylabel('Numero di scioperi')\n",
    "plt.xlabel('')\n",
    "plt.xticks(rotation=15)\n",
    "plt.show()"
   ]
  },
  {
   "cell_type": "markdown",
   "metadata": {},
   "source": [
    "comparare questi dati rispetto al numero di treni disponibili per ogni giorno"
   ]
  },
  {
   "cell_type": "code",
   "execution_count": 10,
   "metadata": {},
   "outputs": [
    {
     "data": {
      "text/plain": [
       "count      7.000000\n",
       "mean     101.142857\n",
       "std       50.121281\n",
       "min       52.000000\n",
       "25%       62.500000\n",
       "50%       84.000000\n",
       "75%      129.500000\n",
       "max      188.000000\n",
       "Name: count, dtype: float64"
      ]
     },
     "execution_count": 10,
     "metadata": {},
     "output_type": "execute_result"
    }
   ],
   "source": [
    "frequenza_giorni_sciopero.describe()"
   ]
  },
  {
   "cell_type": "code",
   "execution_count": null,
   "metadata": {},
   "outputs": [
    {
     "name": "stdout",
     "output_type": "stream",
     "text": [
      "KS statistic: 0.3214285714285714\n",
      "p-value: 1.396978701758968e-65\n"
     ]
    }
   ],
   "source": [
    "import numpy as np\n",
    "from scipy.stats import kstest\n",
    "\n",
    "weekday_mapping = {\n",
    "    'Monday': 1,\n",
    "    'Tuesday': 2,\n",
    "    'Wednesday': 3,\n",
    "    'Thursday': 4,\n",
    "    'Friday': 5,\n",
    "    'Saturday': 6,\n",
    "    'Sunday': 7\n",
    "}\n",
    "\n",
    "\n",
    "data = []\n",
    "for day,count in frequenza_giorni_sciopero.items():\n",
    "    day_number = weekday_mapping[day]\n",
    "    data.extend([day_number] * count)\n",
    "data = np.array(data)\n",
    "\n",
    "\n",
    "from scipy.stats import randint\n",
    "statistic, p_value = kstest(data, randint.cdf, args=(1, 8))\n",
    "\n",
    "print(f\"KS statistic: {statistic}\")\n",
    "print(f\"p-value: {p_value}\")"
   ]
  },
  {
   "cell_type": "code",
   "execution_count": null,
   "metadata": {},
   "outputs": [
    {
     "data": {
      "text/plain": [
       "Power_divergenceResult(statistic=149.02542372881356, pvalue=1.2434453448513051e-29)"
      ]
     },
     "execution_count": 14,
     "metadata": {},
     "output_type": "execute_result"
    }
   ],
   "source": [
    "from scipy.stats import chisquare \n",
    "chisquare(frequenza_giorni_sciopero) "
   ]
  },
  {
   "cell_type": "markdown",
   "metadata": {},
   "source": [
    "I p-value estremamente bassi di entrambi di test, rifiutano l'ipotesi nulla(che i dati forniti provengano da una distribuzione uniforme discreta), di conseguenza si può suggerire che  il dataset non proviene da una distribuzione uniforme discreta."
   ]
  }
 ],
 "metadata": {
  "kernelspec": {
   "display_name": "base",
   "language": "python",
   "name": "python3"
  },
  "language_info": {
   "codemirror_mode": {
    "name": "ipython",
    "version": 3
   },
   "file_extension": ".py",
   "mimetype": "text/x-python",
   "name": "python",
   "nbconvert_exporter": "python",
   "pygments_lexer": "ipython3",
   "version": "3.11.5"
  }
 },
 "nbformat": 4,
 "nbformat_minor": 2
}
